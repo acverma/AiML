{
  "nbformat": 4,
  "nbformat_minor": 0,
  "metadata": {
    "colab": {
      "name": "Machine Learning Seaborne.ipynb",
      "provenance": [],
      "authorship_tag": "ABX9TyNzz0zcy3d9F0E8Wnk4y9kP",
      "include_colab_link": true
    },
    "kernelspec": {
      "name": "python3",
      "display_name": "Python 3"
    },
    "language_info": {
      "name": "python"
    }
  },
  "cells": [
    {
      "cell_type": "markdown",
      "metadata": {
        "id": "view-in-github",
        "colab_type": "text"
      },
      "source": [
        "<a href=\"https://colab.research.google.com/github/acverma/AiML/blob/python/Machine_Learning_Seaborne.ipynb\" target=\"_parent\"><img src=\"https://colab.research.google.com/assets/colab-badge.svg\" alt=\"Open In Colab\"/></a>"
      ]
    },
    {
      "cell_type": "code",
      "metadata": {
        "colab": {
          "base_uri": "https://localhost:8080/"
        },
        "id": "5T9U658AzjQD",
        "outputId": "e2dc678b-17e3-47e4-b726-bd189aab2826"
      },
      "source": [
        "# !pip install plotly==4.5.2"
      ],
      "execution_count": null,
      "outputs": [
        {
          "output_type": "stream",
          "name": "stdout",
          "text": [
            "Requirement already satisfied: plotly==4.5.2 in /usr/local/lib/python3.7/dist-packages (4.5.2)\n",
            "Requirement already satisfied: retrying>=1.3.3 in /usr/local/lib/python3.7/dist-packages (from plotly==4.5.2) (1.3.3)\n",
            "Requirement already satisfied: six in /usr/local/lib/python3.7/dist-packages (from plotly==4.5.2) (1.15.0)\n"
          ]
        }
      ]
    },
    {
      "cell_type": "code",
      "metadata": {
        "id": "QYx44arQilzX"
      },
      "source": [
        "# Importing Libraries\n",
        "import pandas as pd\n",
        "import numpy as np \n",
        "\n",
        "import matplotlib.pyplot as plt\n",
        "import seaborn as sns\n",
        "sns.set_palette(\"tab10\")\n",
        "import plotly.graph_objs as go\n",
        "import plotly.express as px"
      ],
      "execution_count": null,
      "outputs": []
    },
    {
      "cell_type": "code",
      "metadata": {
        "colab": {
          "base_uri": "https://localhost:8080/"
        },
        "id": "LJhquuspv2bQ",
        "outputId": "82ef8659-42d8-412c-89c5-eb39defb79d1"
      },
      "source": [
        "from google.colab import auth\n",
        "auth.authenticate_user()\n",
        "\n",
        "import gspread\n",
        "from oauth2client.client import GoogleCredentials\n",
        "\n",
        "gc = gspread.authorize(GoogleCredentials.get_application_default())\n",
        "\n",
        "#sh = gc.create('A new spreadsheet')\n",
        "\n",
        "# Open our new sheet and add some data.\n",
        "wb = gc.open_by_key('1KidrOjJV74mWWyFApN3eJzCAricbJ8ub38eBqAC5ccw').sheet1\n",
        "\n",
        "# get_all_values gives a list of rows.\n",
        "rows = wb.get_all_values()\n",
        "print(rows)\n",
        "\n",
        "\n",
        "\n",
        "#cell_list = wb.range('A1:C2')\n",
        "\n",
        "#import random\n",
        "#for cell in cell_list:\n",
        "#  cell.value = random.randint(1, 10)\n",
        "\n",
        "#worksheet.update_cells(cell_list)\n",
        "# Go to https://sheets.google.com to see your new spreadsheet."
      ],
      "execution_count": null,
      "outputs": [
        {
          "output_type": "stream",
          "name": "stdout",
          "text": [
            "[['Types_of_ML', 'Subset_ML', 'Algorithms'], ['Supervised', 'Regression', 'Linear Regression'], ['Supervised', 'Regression', 'K-Nearest Neighbour(KNN)'], ['Supervised', 'Regression', 'Random Forest'], ['Supervised', 'Regression', 'Decision Tree Regression(CART)'], ['Supervised', 'Regression', 'Support Vector Regression'], ['Supervised', 'Regression', 'Locally Weighted Scatterplot Smoothing'], ['Supervised', 'Regression', 'Multivariate Adaptive Regression Splines'], ['Supervised', 'Classification', 'Logistic Regression'], ['Supervised', 'Classification', 'K-Nearest Neighbour(KNN)'], ['Supervised', 'Classification', 'Xtreme Gradient Descent Boosting(XGBOOST)'], ['Supervised', 'Classification', 'Gradient Boosted Trees'], ['Supervised', 'Classification', 'Adaptive Boosting (AdaBoost)'], ['Supervised', 'Classification', 'Random Forest'], ['Supervised', 'Classification', 'CART'], ['Supervised', 'Classification', 'SVM'], ['Supervised', 'Classification', 'Naive Bayes'], ['Supervised', 'Neural Networks', 'Convolutional Neural Network'], ['Supervised', 'Neural Networks', 'Gated Recurrent Unit (GRU)'], ['Supervised', 'Neural Networks', 'Long Short term memory Network (LSTM)'], ['Supervised', 'Neural Networks', 'Feed Forward Neural Network (FFNN)'], ['Supervised', 'Neural Networks', 'Generative Adversial Network (GAN)'], ['Supervised', 'Dimensionality Reduction', 'Linear Discrimant Analysis'], ['UnSupervised', 'Clustering', 'K-Means'], ['UnSupervised', 'Clustering', 'Support Vector Clustering'], ['UnSupervised', 'Clustering', 'Density Based Spatial Clustering of Application with Noise (DBSCAN)'], ['UnSupervised', 'Clustering', 'Hierarchical Aglomerative Clustering(HAC)'], ['UnSupervised', 'Clustering', 'Gaussian Mixture Models (GMM)'], ['UnSupervised', 'Dimensionality Reduction', 'Principal Component Analysis'], ['UnSupervised', 'Dimensionality Reduction', 'Modified Locally Linear Embedding'], ['UnSupervised', 'Dimensionality Reduction', 'Locally Linear Embedding'], ['UnSupervised', 'Dimensionality Reduction', 'Isomap Embedding'], ['UnSupervised', 'Dimensionality Reduction', 'Multidimensional Scaling(MDS)'], ['UnSupervised', 'Association Mining', 'Apriori Algorithm'], ['Reinforcement', 'Reinforcement', 'Monte Carlo Methods'], ['Reinforcement', 'Reinforcement', 'Deep Q Neural Networks (DQN)'], ['Reinforcement', 'Reinforcement', 'Q-Learning'], ['Reinforcement', 'Reinforcement', 'SARSA(State Action Reward State Action)'], ['Reinforcement', 'Reinforcement', 'Proximal Policy Optimization(PPO)'], ['Reinforcement', 'Reinforcement', 'Policy Gradients'], ['Reinforcement', 'Reinforcement', 'Temporal Difference'], ['Semi-Supervised', 'Semi-Supervised', 'Self Training Classifier'], ['Semi-Supervised', 'Semi-Supervised', 'Transductive Support Vector Machine (TSVM)'], ['Semi-Supervised', 'Semi-Supervised', 'Label Spreading'], ['Semi-Supervised', 'Semi-Supervised', 'Label Propagation'], ['Others', 'Prabablistic', 'Probablistic Graphical Models'], ['Others', 'Prabablistic', 'Bayesian Believes Network (BBN)']]\n"
          ]
        }
      ]
    },
    {
      "cell_type": "code",
      "metadata": {
        "id": "IpdlhpBbxf01"
      },
      "source": [
        "# Convert to a DataFrame and render.\n",
        "import pandas as pd\n",
        "df=pd.DataFrame.from_records(rows[1:],columns=rows[0])"
      ],
      "execution_count": null,
      "outputs": []
    },
    {
      "cell_type": "code",
      "metadata": {
        "colab": {
          "base_uri": "https://localhost:8080/",
          "height": 204
        },
        "id": "pkboxVKbyUnf",
        "outputId": "dd552895-4080-4b93-f63a-53838166a816"
      },
      "source": [
        "df.head(5)"
      ],
      "execution_count": null,
      "outputs": [
        {
          "output_type": "execute_result",
          "data": {
            "text/html": [
              "<div>\n",
              "<style scoped>\n",
              "    .dataframe tbody tr th:only-of-type {\n",
              "        vertical-align: middle;\n",
              "    }\n",
              "\n",
              "    .dataframe tbody tr th {\n",
              "        vertical-align: top;\n",
              "    }\n",
              "\n",
              "    .dataframe thead th {\n",
              "        text-align: right;\n",
              "    }\n",
              "</style>\n",
              "<table border=\"1\" class=\"dataframe\">\n",
              "  <thead>\n",
              "    <tr style=\"text-align: right;\">\n",
              "      <th></th>\n",
              "      <th>Types_of_ML</th>\n",
              "      <th>Subset_ML</th>\n",
              "      <th>Algorithms</th>\n",
              "    </tr>\n",
              "  </thead>\n",
              "  <tbody>\n",
              "    <tr>\n",
              "      <th>0</th>\n",
              "      <td>Supervised</td>\n",
              "      <td>Regression</td>\n",
              "      <td>Linear Regression</td>\n",
              "    </tr>\n",
              "    <tr>\n",
              "      <th>1</th>\n",
              "      <td>Supervised</td>\n",
              "      <td>Regression</td>\n",
              "      <td>K-Nearest Neighbour(KNN)</td>\n",
              "    </tr>\n",
              "    <tr>\n",
              "      <th>2</th>\n",
              "      <td>Supervised</td>\n",
              "      <td>Regression</td>\n",
              "      <td>Random Forest</td>\n",
              "    </tr>\n",
              "    <tr>\n",
              "      <th>3</th>\n",
              "      <td>Supervised</td>\n",
              "      <td>Regression</td>\n",
              "      <td>Decision Tree Regression(CART)</td>\n",
              "    </tr>\n",
              "    <tr>\n",
              "      <th>4</th>\n",
              "      <td>Supervised</td>\n",
              "      <td>Regression</td>\n",
              "      <td>Support Vector Regression</td>\n",
              "    </tr>\n",
              "  </tbody>\n",
              "</table>\n",
              "</div>"
            ],
            "text/plain": [
              "  Types_of_ML   Subset_ML                      Algorithms\n",
              "0  Supervised  Regression               Linear Regression\n",
              "1  Supervised  Regression        K-Nearest Neighbour(KNN)\n",
              "2  Supervised  Regression                   Random Forest\n",
              "3  Supervised  Regression  Decision Tree Regression(CART)\n",
              "4  Supervised  Regression       Support Vector Regression"
            ]
          },
          "metadata": {},
          "execution_count": 4
        }
      ]
    },
    {
      "cell_type": "code",
      "metadata": {
        "id": "NN6RsR0FiyxH",
        "colab": {
          "base_uri": "https://localhost:8080/",
          "height": 917
        },
        "outputId": "da836299-16a8-421a-85f6-2d4755c3741f"
      },
      "source": [
        "df0=df.loc[:,['Types_of_ML','Subset_ML','Algorithms']]\n",
        "df0['count']=1\n",
        "df0['Listed']='Machine Learning'\n",
        "fig = px.sunburst(df0, path=['Listed','Types_of_ML','Subset_ML', 'Algorithms'], values='count',width=900, height=900,title='Machine Learning Sea', )\n",
        "fig.show()"
      ],
      "execution_count": null,
      "outputs": [
        {
          "output_type": "display_data",
          "data": {
            "text/html": [
              "<html>\n",
              "<head><meta charset=\"utf-8\" /></head>\n",
              "<body>\n",
              "    <div>\n",
              "            <script src=\"https://cdnjs.cloudflare.com/ajax/libs/mathjax/2.7.5/MathJax.js?config=TeX-AMS-MML_SVG\"></script><script type=\"text/javascript\">if (window.MathJax) {MathJax.Hub.Config({SVG: {font: \"STIX-Web\"}});}</script>\n",
              "                <script type=\"text/javascript\">window.PlotlyConfig = {MathJaxConfig: 'local'};</script>\n",
              "        <script src=\"https://cdn.plot.ly/plotly-latest.min.js\"></script>    \n",
              "            <div id=\"fc27d979-3e8f-40cf-a2db-4cf5cd51cc89\" class=\"plotly-graph-div\" style=\"height:900px; width:900px;\"></div>\n",
              "            <script type=\"text/javascript\">\n",
              "                \n",
              "                    window.PLOTLYENV=window.PLOTLYENV || {};\n",
              "                    \n",
              "                if (document.getElementById(\"fc27d979-3e8f-40cf-a2db-4cf5cd51cc89\")) {\n",
              "                    Plotly.newPlot(\n",
              "                        'fc27d979-3e8f-40cf-a2db-4cf5cd51cc89',\n",
              "                        [{\"branchvalues\": \"total\", \"domain\": {\"x\": [0.0, 1.0], \"y\": [0.0, 1.0]}, \"hoverlabel\": {\"namelength\": 0}, \"hovertemplate\": \"labels=%{label}<br>count=%{value}<br>parent=%{parent}<br>id=%{id}\", \"ids\": [\"Machine Learning/Supervised/Classification/Adaptive Boosting (AdaBoost)\", \"Machine Learning/UnSupervised/Association Mining/Apriori Algorithm\", \"Machine Learning/Others/Prabablistic/Bayesian Believes Network (BBN)\", \"Machine Learning/Supervised/Classification/CART\", \"Machine Learning/Supervised/Neural Networks/Convolutional Neural Network\", \"Machine Learning/Supervised/Regression/Decision Tree Regression(CART)\", \"Machine Learning/Reinforcement/Reinforcement/Deep Q Neural Networks (DQN)\", \"Machine Learning/UnSupervised/Clustering/Density Based Spatial Clustering of Application with Noise (DBSCAN)\", \"Machine Learning/Supervised/Neural Networks/Feed Forward Neural Network (FFNN)\", \"Machine Learning/Supervised/Neural Networks/Gated Recurrent Unit (GRU)\", \"Machine Learning/UnSupervised/Clustering/Gaussian Mixture Models (GMM)\", \"Machine Learning/Supervised/Neural Networks/Generative Adversial Network (GAN)\", \"Machine Learning/Supervised/Classification/Gradient Boosted Trees\", \"Machine Learning/UnSupervised/Clustering/Hierarchical Aglomerative Clustering(HAC)\", \"Machine Learning/UnSupervised/Dimensionality Reduction/Isomap Embedding\", \"Machine Learning/UnSupervised/Clustering/K-Means\", \"Machine Learning/Supervised/Classification/K-Nearest Neighbour(KNN)\", \"Machine Learning/Supervised/Regression/K-Nearest Neighbour(KNN)\", \"Machine Learning/Semi-Supervised/Semi-Supervised/Label Propagation\", \"Machine Learning/Semi-Supervised/Semi-Supervised/Label Spreading\", \"Machine Learning/Supervised/Dimensionality Reduction/Linear Discrimant Analysis\", \"Machine Learning/Supervised/Regression/Linear Regression\", \"Machine Learning/UnSupervised/Dimensionality Reduction/Locally Linear Embedding\", \"Machine Learning/Supervised/Regression/Locally Weighted Scatterplot Smoothing\", \"Machine Learning/Supervised/Classification/Logistic Regression\", \"Machine Learning/Supervised/Neural Networks/Long Short term memory Network (LSTM)\", \"Machine Learning/UnSupervised/Dimensionality Reduction/Modified Locally Linear Embedding\", \"Machine Learning/Reinforcement/Reinforcement/Monte Carlo Methods\", \"Machine Learning/UnSupervised/Dimensionality Reduction/Multidimensional Scaling(MDS)\", \"Machine Learning/Supervised/Regression/Multivariate Adaptive Regression Splines\", \"Machine Learning/Supervised/Classification/Naive Bayes\", \"Machine Learning/Reinforcement/Reinforcement/Policy Gradients\", \"Machine Learning/UnSupervised/Dimensionality Reduction/Principal Component Analysis\", \"Machine Learning/Others/Prabablistic/Probablistic Graphical Models\", \"Machine Learning/Reinforcement/Reinforcement/Proximal Policy Optimization(PPO)\", \"Machine Learning/Reinforcement/Reinforcement/Q-Learning\", \"Machine Learning/Supervised/Classification/Random Forest\", \"Machine Learning/Supervised/Regression/Random Forest\", \"Machine Learning/Reinforcement/Reinforcement/SARSA(State Action Reward State Action)\", \"Machine Learning/Supervised/Classification/SVM\", \"Machine Learning/Semi-Supervised/Semi-Supervised/Self Training Classifier\", \"Machine Learning/UnSupervised/Clustering/Support Vector Clustering\", \"Machine Learning/Supervised/Regression/Support Vector Regression\", \"Machine Learning/Reinforcement/Reinforcement/Temporal Difference\", \"Machine Learning/Semi-Supervised/Semi-Supervised/Transductive Support Vector Machine (TSVM)\", \"Machine Learning/Supervised/Classification/Xtreme Gradient Descent Boosting(XGBOOST)\", \"Machine Learning/UnSupervised/Association Mining\", \"Machine Learning/Supervised/Classification\", \"Machine Learning/UnSupervised/Clustering\", \"Machine Learning/Supervised/Dimensionality Reduction\", \"Machine Learning/UnSupervised/Dimensionality Reduction\", \"Machine Learning/Supervised/Neural Networks\", \"Machine Learning/Others/Prabablistic\", \"Machine Learning/Supervised/Regression\", \"Machine Learning/Reinforcement/Reinforcement\", \"Machine Learning/Semi-Supervised/Semi-Supervised\", \"Machine Learning/Others\", \"Machine Learning/Reinforcement\", \"Machine Learning/Semi-Supervised\", \"Machine Learning/Supervised\", \"Machine Learning/UnSupervised\", \"Machine Learning\"], \"labels\": [\"Adaptive Boosting (AdaBoost)\", \"Apriori Algorithm\", \"Bayesian Believes Network (BBN)\", \"CART\", \"Convolutional Neural Network\", \"Decision Tree Regression(CART)\", \"Deep Q Neural Networks (DQN)\", \"Density Based Spatial Clustering of Application with Noise (DBSCAN)\", \"Feed Forward Neural Network (FFNN)\", \"Gated Recurrent Unit (GRU)\", \"Gaussian Mixture Models (GMM)\", \"Generative Adversial Network (GAN)\", \"Gradient Boosted Trees\", \"Hierarchical Aglomerative Clustering(HAC)\", \"Isomap Embedding\", \"K-Means\", \"K-Nearest Neighbour(KNN)\", \"K-Nearest Neighbour(KNN)\", \"Label Propagation\", \"Label Spreading\", \"Linear Discrimant Analysis\", \"Linear Regression\", \"Locally Linear Embedding\", \"Locally Weighted Scatterplot Smoothing\", \"Logistic Regression\", \"Long Short term memory Network (LSTM)\", \"Modified Locally Linear Embedding\", \"Monte Carlo Methods\", \"Multidimensional Scaling(MDS)\", \"Multivariate Adaptive Regression Splines\", \"Naive Bayes\", \"Policy Gradients\", \"Principal Component Analysis\", \"Probablistic Graphical Models\", \"Proximal Policy Optimization(PPO)\", \"Q-Learning\", \"Random Forest\", \"Random Forest\", \"SARSA(State Action Reward State Action)\", \"SVM\", \"Self Training Classifier\", \"Support Vector Clustering\", \"Support Vector Regression\", \"Temporal Difference\", \"Transductive Support Vector Machine (TSVM)\", \"Xtreme Gradient Descent Boosting(XGBOOST)\", \"Association Mining\", \"Classification\", \"Clustering\", \"Dimensionality Reduction\", \"Dimensionality Reduction\", \"Neural Networks\", \"Prabablistic\", \"Regression\", \"Reinforcement\", \"Semi-Supervised\", \"Others\", \"Reinforcement\", \"Semi-Supervised\", \"Supervised\", \"UnSupervised\", \"Machine Learning\"], \"name\": \"\", \"parents\": [\"Machine Learning/Supervised/Classification\", \"Machine Learning/UnSupervised/Association Mining\", \"Machine Learning/Others/Prabablistic\", \"Machine Learning/Supervised/Classification\", \"Machine Learning/Supervised/Neural Networks\", \"Machine Learning/Supervised/Regression\", \"Machine Learning/Reinforcement/Reinforcement\", \"Machine Learning/UnSupervised/Clustering\", \"Machine Learning/Supervised/Neural Networks\", \"Machine Learning/Supervised/Neural Networks\", \"Machine Learning/UnSupervised/Clustering\", \"Machine Learning/Supervised/Neural Networks\", \"Machine Learning/Supervised/Classification\", \"Machine Learning/UnSupervised/Clustering\", \"Machine Learning/UnSupervised/Dimensionality Reduction\", \"Machine Learning/UnSupervised/Clustering\", \"Machine Learning/Supervised/Classification\", \"Machine Learning/Supervised/Regression\", \"Machine Learning/Semi-Supervised/Semi-Supervised\", \"Machine Learning/Semi-Supervised/Semi-Supervised\", \"Machine Learning/Supervised/Dimensionality Reduction\", \"Machine Learning/Supervised/Regression\", \"Machine Learning/UnSupervised/Dimensionality Reduction\", \"Machine Learning/Supervised/Regression\", \"Machine Learning/Supervised/Classification\", \"Machine Learning/Supervised/Neural Networks\", \"Machine Learning/UnSupervised/Dimensionality Reduction\", \"Machine Learning/Reinforcement/Reinforcement\", \"Machine Learning/UnSupervised/Dimensionality Reduction\", \"Machine Learning/Supervised/Regression\", \"Machine Learning/Supervised/Classification\", \"Machine Learning/Reinforcement/Reinforcement\", \"Machine Learning/UnSupervised/Dimensionality Reduction\", \"Machine Learning/Others/Prabablistic\", \"Machine Learning/Reinforcement/Reinforcement\", \"Machine Learning/Reinforcement/Reinforcement\", \"Machine Learning/Supervised/Classification\", \"Machine Learning/Supervised/Regression\", \"Machine Learning/Reinforcement/Reinforcement\", \"Machine Learning/Supervised/Classification\", \"Machine Learning/Semi-Supervised/Semi-Supervised\", \"Machine Learning/UnSupervised/Clustering\", \"Machine Learning/Supervised/Regression\", \"Machine Learning/Reinforcement/Reinforcement\", \"Machine Learning/Semi-Supervised/Semi-Supervised\", \"Machine Learning/Supervised/Classification\", \"Machine Learning/UnSupervised\", \"Machine Learning/Supervised\", \"Machine Learning/UnSupervised\", \"Machine Learning/Supervised\", \"Machine Learning/UnSupervised\", \"Machine Learning/Supervised\", \"Machine Learning/Others\", \"Machine Learning/Supervised\", \"Machine Learning/Reinforcement\", \"Machine Learning/Semi-Supervised\", \"Machine Learning\", \"Machine Learning\", \"Machine Learning\", \"Machine Learning\", \"Machine Learning\", \"\"], \"type\": \"sunburst\", \"values\": [1, 1, 1, 1, 1, 1, 1, 1, 1, 1, 1, 1, 1, 1, 1, 1, 1, 1, 1, 1, 1, 1, 1, 1, 1, 1, 1, 1, 1, 1, 1, 1, 1, 1, 1, 1, 1, 1, 1, 1, 1, 1, 1, 1, 1, 1, 1, 9, 5, 1, 5, 5, 2, 7, 7, 4, 2, 7, 4, 22, 11, 46]}],\n",
              "                        {\"height\": 900, \"legend\": {\"tracegroupgap\": 0}, \"template\": {\"data\": {\"bar\": [{\"error_x\": {\"color\": \"#2a3f5f\"}, \"error_y\": {\"color\": \"#2a3f5f\"}, \"marker\": {\"line\": {\"color\": \"#E5ECF6\", \"width\": 0.5}}, \"type\": \"bar\"}], \"barpolar\": [{\"marker\": {\"line\": {\"color\": \"#E5ECF6\", \"width\": 0.5}}, \"type\": \"barpolar\"}], \"carpet\": [{\"aaxis\": {\"endlinecolor\": \"#2a3f5f\", \"gridcolor\": \"white\", \"linecolor\": \"white\", \"minorgridcolor\": \"white\", \"startlinecolor\": \"#2a3f5f\"}, \"baxis\": {\"endlinecolor\": \"#2a3f5f\", \"gridcolor\": \"white\", \"linecolor\": \"white\", \"minorgridcolor\": \"white\", \"startlinecolor\": \"#2a3f5f\"}, \"type\": \"carpet\"}], \"choropleth\": [{\"colorbar\": {\"outlinewidth\": 0, \"ticks\": \"\"}, \"type\": \"choropleth\"}], \"contour\": [{\"colorbar\": {\"outlinewidth\": 0, \"ticks\": \"\"}, \"colorscale\": [[0.0, \"#0d0887\"], [0.1111111111111111, \"#46039f\"], [0.2222222222222222, \"#7201a8\"], [0.3333333333333333, \"#9c179e\"], [0.4444444444444444, \"#bd3786\"], [0.5555555555555556, \"#d8576b\"], [0.6666666666666666, \"#ed7953\"], [0.7777777777777778, \"#fb9f3a\"], [0.8888888888888888, \"#fdca26\"], [1.0, \"#f0f921\"]], \"type\": \"contour\"}], \"contourcarpet\": [{\"colorbar\": {\"outlinewidth\": 0, \"ticks\": \"\"}, \"type\": \"contourcarpet\"}], \"heatmap\": [{\"colorbar\": {\"outlinewidth\": 0, \"ticks\": \"\"}, \"colorscale\": [[0.0, \"#0d0887\"], [0.1111111111111111, \"#46039f\"], [0.2222222222222222, \"#7201a8\"], [0.3333333333333333, \"#9c179e\"], [0.4444444444444444, \"#bd3786\"], [0.5555555555555556, \"#d8576b\"], [0.6666666666666666, \"#ed7953\"], [0.7777777777777778, \"#fb9f3a\"], [0.8888888888888888, \"#fdca26\"], [1.0, \"#f0f921\"]], \"type\": \"heatmap\"}], \"heatmapgl\": [{\"colorbar\": {\"outlinewidth\": 0, \"ticks\": \"\"}, \"colorscale\": [[0.0, \"#0d0887\"], [0.1111111111111111, \"#46039f\"], [0.2222222222222222, \"#7201a8\"], [0.3333333333333333, \"#9c179e\"], [0.4444444444444444, \"#bd3786\"], [0.5555555555555556, \"#d8576b\"], [0.6666666666666666, \"#ed7953\"], [0.7777777777777778, \"#fb9f3a\"], [0.8888888888888888, \"#fdca26\"], [1.0, \"#f0f921\"]], \"type\": \"heatmapgl\"}], \"histogram\": [{\"marker\": {\"colorbar\": {\"outlinewidth\": 0, \"ticks\": \"\"}}, \"type\": \"histogram\"}], \"histogram2d\": [{\"colorbar\": {\"outlinewidth\": 0, \"ticks\": \"\"}, \"colorscale\": [[0.0, \"#0d0887\"], [0.1111111111111111, \"#46039f\"], [0.2222222222222222, \"#7201a8\"], [0.3333333333333333, \"#9c179e\"], [0.4444444444444444, \"#bd3786\"], [0.5555555555555556, \"#d8576b\"], [0.6666666666666666, \"#ed7953\"], [0.7777777777777778, \"#fb9f3a\"], [0.8888888888888888, \"#fdca26\"], [1.0, \"#f0f921\"]], \"type\": \"histogram2d\"}], \"histogram2dcontour\": [{\"colorbar\": {\"outlinewidth\": 0, \"ticks\": \"\"}, \"colorscale\": [[0.0, \"#0d0887\"], [0.1111111111111111, \"#46039f\"], [0.2222222222222222, \"#7201a8\"], [0.3333333333333333, \"#9c179e\"], [0.4444444444444444, \"#bd3786\"], [0.5555555555555556, \"#d8576b\"], [0.6666666666666666, \"#ed7953\"], [0.7777777777777778, \"#fb9f3a\"], [0.8888888888888888, \"#fdca26\"], [1.0, \"#f0f921\"]], \"type\": \"histogram2dcontour\"}], \"mesh3d\": [{\"colorbar\": {\"outlinewidth\": 0, \"ticks\": \"\"}, \"type\": \"mesh3d\"}], \"parcoords\": [{\"line\": {\"colorbar\": {\"outlinewidth\": 0, \"ticks\": \"\"}}, \"type\": \"parcoords\"}], \"pie\": [{\"automargin\": true, \"type\": \"pie\"}], \"scatter\": [{\"marker\": {\"colorbar\": {\"outlinewidth\": 0, \"ticks\": \"\"}}, \"type\": \"scatter\"}], \"scatter3d\": [{\"line\": {\"colorbar\": {\"outlinewidth\": 0, \"ticks\": \"\"}}, \"marker\": {\"colorbar\": {\"outlinewidth\": 0, \"ticks\": \"\"}}, \"type\": \"scatter3d\"}], \"scattercarpet\": [{\"marker\": {\"colorbar\": {\"outlinewidth\": 0, \"ticks\": \"\"}}, \"type\": \"scattercarpet\"}], \"scattergeo\": [{\"marker\": {\"colorbar\": {\"outlinewidth\": 0, \"ticks\": \"\"}}, \"type\": \"scattergeo\"}], \"scattergl\": [{\"marker\": {\"colorbar\": {\"outlinewidth\": 0, \"ticks\": \"\"}}, \"type\": \"scattergl\"}], \"scattermapbox\": [{\"marker\": {\"colorbar\": {\"outlinewidth\": 0, \"ticks\": \"\"}}, \"type\": \"scattermapbox\"}], \"scatterpolar\": [{\"marker\": {\"colorbar\": {\"outlinewidth\": 0, \"ticks\": \"\"}}, \"type\": \"scatterpolar\"}], \"scatterpolargl\": [{\"marker\": {\"colorbar\": {\"outlinewidth\": 0, \"ticks\": \"\"}}, \"type\": \"scatterpolargl\"}], \"scatterternary\": [{\"marker\": {\"colorbar\": {\"outlinewidth\": 0, \"ticks\": \"\"}}, \"type\": \"scatterternary\"}], \"surface\": [{\"colorbar\": {\"outlinewidth\": 0, \"ticks\": \"\"}, \"colorscale\": [[0.0, \"#0d0887\"], [0.1111111111111111, \"#46039f\"], [0.2222222222222222, \"#7201a8\"], [0.3333333333333333, \"#9c179e\"], [0.4444444444444444, \"#bd3786\"], [0.5555555555555556, \"#d8576b\"], [0.6666666666666666, \"#ed7953\"], [0.7777777777777778, \"#fb9f3a\"], [0.8888888888888888, \"#fdca26\"], [1.0, \"#f0f921\"]], \"type\": \"surface\"}], \"table\": [{\"cells\": {\"fill\": {\"color\": \"#EBF0F8\"}, \"line\": {\"color\": \"white\"}}, \"header\": {\"fill\": {\"color\": \"#C8D4E3\"}, \"line\": {\"color\": \"white\"}}, \"type\": \"table\"}]}, \"layout\": {\"annotationdefaults\": {\"arrowcolor\": \"#2a3f5f\", \"arrowhead\": 0, \"arrowwidth\": 1}, \"coloraxis\": {\"colorbar\": {\"outlinewidth\": 0, \"ticks\": \"\"}}, \"colorscale\": {\"diverging\": [[0, \"#8e0152\"], [0.1, \"#c51b7d\"], [0.2, \"#de77ae\"], [0.3, \"#f1b6da\"], [0.4, \"#fde0ef\"], [0.5, \"#f7f7f7\"], [0.6, \"#e6f5d0\"], [0.7, \"#b8e186\"], [0.8, \"#7fbc41\"], [0.9, \"#4d9221\"], [1, \"#276419\"]], \"sequential\": [[0.0, \"#0d0887\"], [0.1111111111111111, \"#46039f\"], [0.2222222222222222, \"#7201a8\"], [0.3333333333333333, \"#9c179e\"], [0.4444444444444444, \"#bd3786\"], [0.5555555555555556, \"#d8576b\"], [0.6666666666666666, \"#ed7953\"], [0.7777777777777778, \"#fb9f3a\"], [0.8888888888888888, \"#fdca26\"], [1.0, \"#f0f921\"]], \"sequentialminus\": [[0.0, \"#0d0887\"], [0.1111111111111111, \"#46039f\"], [0.2222222222222222, \"#7201a8\"], [0.3333333333333333, \"#9c179e\"], [0.4444444444444444, \"#bd3786\"], [0.5555555555555556, \"#d8576b\"], [0.6666666666666666, \"#ed7953\"], [0.7777777777777778, \"#fb9f3a\"], [0.8888888888888888, \"#fdca26\"], [1.0, \"#f0f921\"]]}, \"colorway\": [\"#636efa\", \"#EF553B\", \"#00cc96\", \"#ab63fa\", \"#FFA15A\", \"#19d3f3\", \"#FF6692\", \"#B6E880\", \"#FF97FF\", \"#FECB52\"], \"font\": {\"color\": \"#2a3f5f\"}, \"geo\": {\"bgcolor\": \"white\", \"lakecolor\": \"white\", \"landcolor\": \"#E5ECF6\", \"showlakes\": true, \"showland\": true, \"subunitcolor\": \"white\"}, \"hoverlabel\": {\"align\": \"left\"}, \"hovermode\": \"closest\", \"mapbox\": {\"style\": \"light\"}, \"paper_bgcolor\": \"white\", \"plot_bgcolor\": \"#E5ECF6\", \"polar\": {\"angularaxis\": {\"gridcolor\": \"white\", \"linecolor\": \"white\", \"ticks\": \"\"}, \"bgcolor\": \"#E5ECF6\", \"radialaxis\": {\"gridcolor\": \"white\", \"linecolor\": \"white\", \"ticks\": \"\"}}, \"scene\": {\"xaxis\": {\"backgroundcolor\": \"#E5ECF6\", \"gridcolor\": \"white\", \"gridwidth\": 2, \"linecolor\": \"white\", \"showbackground\": true, \"ticks\": \"\", \"zerolinecolor\": \"white\"}, \"yaxis\": {\"backgroundcolor\": \"#E5ECF6\", \"gridcolor\": \"white\", \"gridwidth\": 2, \"linecolor\": \"white\", \"showbackground\": true, \"ticks\": \"\", \"zerolinecolor\": \"white\"}, \"zaxis\": {\"backgroundcolor\": \"#E5ECF6\", \"gridcolor\": \"white\", \"gridwidth\": 2, \"linecolor\": \"white\", \"showbackground\": true, \"ticks\": \"\", \"zerolinecolor\": \"white\"}}, \"shapedefaults\": {\"line\": {\"color\": \"#2a3f5f\"}}, \"ternary\": {\"aaxis\": {\"gridcolor\": \"white\", \"linecolor\": \"white\", \"ticks\": \"\"}, \"baxis\": {\"gridcolor\": \"white\", \"linecolor\": \"white\", \"ticks\": \"\"}, \"bgcolor\": \"#E5ECF6\", \"caxis\": {\"gridcolor\": \"white\", \"linecolor\": \"white\", \"ticks\": \"\"}}, \"title\": {\"x\": 0.05}, \"xaxis\": {\"automargin\": true, \"gridcolor\": \"white\", \"linecolor\": \"white\", \"ticks\": \"\", \"title\": {\"standoff\": 15}, \"zerolinecolor\": \"white\", \"zerolinewidth\": 2}, \"yaxis\": {\"automargin\": true, \"gridcolor\": \"white\", \"linecolor\": \"white\", \"ticks\": \"\", \"title\": {\"standoff\": 15}, \"zerolinecolor\": \"white\", \"zerolinewidth\": 2}}}, \"title\": {\"text\": \"Machine Learning Sea\"}, \"width\": 900},\n",
              "                        {\"responsive\": true}\n",
              "                    ).then(function(){\n",
              "                            \n",
              "var gd = document.getElementById('fc27d979-3e8f-40cf-a2db-4cf5cd51cc89');\n",
              "var x = new MutationObserver(function (mutations, observer) {{\n",
              "        var display = window.getComputedStyle(gd).display;\n",
              "        if (!display || display === 'none') {{\n",
              "            console.log([gd, 'removed!']);\n",
              "            Plotly.purge(gd);\n",
              "            observer.disconnect();\n",
              "        }}\n",
              "}});\n",
              "\n",
              "// Listen for the removal of the full notebook cells\n",
              "var notebookContainer = gd.closest('#notebook-container');\n",
              "if (notebookContainer) {{\n",
              "    x.observe(notebookContainer, {childList: true});\n",
              "}}\n",
              "\n",
              "// Listen for the clearing of the current output cell\n",
              "var outputEl = gd.closest('.output');\n",
              "if (outputEl) {{\n",
              "    x.observe(outputEl, {childList: true});\n",
              "}}\n",
              "\n",
              "                        })\n",
              "                };\n",
              "                \n",
              "            </script>\n",
              "        </div>\n",
              "</body>\n",
              "</html>"
            ]
          },
          "metadata": {}
        }
      ]
    },
    {
      "cell_type": "code",
      "metadata": {
        "colab": {
          "base_uri": "https://localhost:8080/"
        },
        "id": "5pCJiTB-8I0B",
        "outputId": "7b680a29-918e-471a-aae9-afe057421230"
      },
      "source": [
        "pip install -U kaleido"
      ],
      "execution_count": null,
      "outputs": [
        {
          "output_type": "stream",
          "name": "stdout",
          "text": [
            "Collecting kaleido\n",
            "  Downloading kaleido-0.2.1-py2.py3-none-manylinux1_x86_64.whl (79.9 MB)\n",
            "\u001b[K     |████████████████████████████████| 79.9 MB 45 kB/s \n",
            "\u001b[?25hInstalling collected packages: kaleido\n",
            "Successfully installed kaleido-0.2.1\n"
          ]
        }
      ]
    },
    {
      "cell_type": "code",
      "metadata": {
        "id": "Y7NkHc6M7lSK"
      },
      "source": [
        "#fig.write_image(\"gdrive/My Drive/ml_sea.svg\")\n",
        "fig.write_html(\"ml_sea.html\")\n",
        "fig.write_json(\"ml_sea.json\")"
      ],
      "execution_count": null,
      "outputs": []
    },
    {
      "cell_type": "code",
      "metadata": {
        "colab": {
          "base_uri": "https://localhost:8080/",
          "height": 17
        },
        "id": "IX3MOTAOCsjK",
        "outputId": "5ae303c2-8a67-4785-cd9d-d1e0ba7b08d8"
      },
      "source": [
        "from google.colab import files\n",
        "#files.download('image.svg')\n",
        "#files.download('image.png')\n",
        "import plotly.graph_objects as go\n",
        "go.Figure.write_html(fig,\"file.html\") # write as html or image\n",
        "files.download(\"file.html\")"
      ],
      "execution_count": null,
      "outputs": [
        {
          "output_type": "display_data",
          "data": {
            "application/javascript": [
              "\n",
              "    async function download(id, filename, size) {\n",
              "      if (!google.colab.kernel.accessAllowed) {\n",
              "        return;\n",
              "      }\n",
              "      const div = document.createElement('div');\n",
              "      const label = document.createElement('label');\n",
              "      label.textContent = `Downloading \"${filename}\": `;\n",
              "      div.appendChild(label);\n",
              "      const progress = document.createElement('progress');\n",
              "      progress.max = size;\n",
              "      div.appendChild(progress);\n",
              "      document.body.appendChild(div);\n",
              "\n",
              "      const buffers = [];\n",
              "      let downloaded = 0;\n",
              "\n",
              "      const channel = await google.colab.kernel.comms.open(id);\n",
              "      // Send a message to notify the kernel that we're ready.\n",
              "      channel.send({})\n",
              "\n",
              "      for await (const message of channel.messages) {\n",
              "        // Send a message to notify the kernel that we're ready.\n",
              "        channel.send({})\n",
              "        if (message.buffers) {\n",
              "          for (const buffer of message.buffers) {\n",
              "            buffers.push(buffer);\n",
              "            downloaded += buffer.byteLength;\n",
              "            progress.value = downloaded;\n",
              "          }\n",
              "        }\n",
              "      }\n",
              "      const blob = new Blob(buffers, {type: 'application/binary'});\n",
              "      const a = document.createElement('a');\n",
              "      a.href = window.URL.createObjectURL(blob);\n",
              "      a.download = filename;\n",
              "      div.appendChild(a);\n",
              "      a.click();\n",
              "      div.remove();\n",
              "    }\n",
              "  "
            ],
            "text/plain": [
              "<IPython.core.display.Javascript object>"
            ]
          },
          "metadata": {}
        },
        {
          "output_type": "display_data",
          "data": {
            "application/javascript": [
              "download(\"download_27ea090d-91f6-47b4-bd3b-e27623c07c55\", \"file.html\", 3328071)"
            ],
            "text/plain": [
              "<IPython.core.display.Javascript object>"
            ]
          },
          "metadata": {}
        }
      ]
    }
  ]
}