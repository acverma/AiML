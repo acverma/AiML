{
 "metadata": {
  "language_info": {
   "codemirror_mode": {
    "name": "ipython",
    "version": 3
   },
   "file_extension": ".py",
   "mimetype": "text/x-python",
   "name": "python",
   "nbconvert_exporter": "python",
   "pygments_lexer": "ipython3",
   "version": "3.8.5"
  },
  "orig_nbformat": 2,
  "kernelspec": {
   "name": "python385jvsc74a57bd0bf1c9f7467dc359620e3f2755f8051bdb105723ebde3723e2e344e05aae482d6",
   "display_name": "Python 3.8.5 64-bit ('base': conda)"
  }
 },
 "nbformat": 4,
 "nbformat_minor": 2,
 "cells": [
  {
   "source": [
    "# Lecture 1 : Input-Output Coding"
   ],
   "cell_type": "markdown",
   "metadata": {}
  },
  {
   "cell_type": "code",
   "execution_count": 1,
   "metadata": {},
   "outputs": [],
   "source": [
    "import sys"
   ]
  },
  {
   "cell_type": "code",
   "execution_count": 2,
   "metadata": {},
   "outputs": [
    {
     "output_type": "execute_result",
     "data": {
      "text/plain": [
       "'3.8.5 (default, Sep  3 2020, 21:29:08) [MSC v.1916 64 bit (AMD64)]'"
      ]
     },
     "metadata": {},
     "execution_count": 2
    }
   ],
   "source": [
    "sys.version"
   ]
  },
  {
   "cell_type": "code",
   "execution_count": 3,
   "metadata": {},
   "outputs": [
    {
     "output_type": "execute_result",
     "data": {
      "text/plain": [
       "'f:\\\\BITS - MTECH\\\\Python for DS'"
      ]
     },
     "metadata": {},
     "execution_count": 3
    }
   ],
   "source": [
    "pwd()"
   ]
  },
  {
   "cell_type": "code",
   "execution_count": 4,
   "metadata": {},
   "outputs": [
    {
     "output_type": "stream",
     "name": "stdout",
     "text": [
      "\n",
      "Note: you may need to restart the kernel to use updated packages.\n",
      "usage: conda-script.py [-h] [-V] command ...\n",
      "conda-script.py: error: the following arguments are required: command\n"
     ]
    }
   ],
   "source": [
    "conda --info "
   ]
  },
  {
   "cell_type": "code",
   "execution_count": 9,
   "metadata": {},
   "outputs": [
    {
     "output_type": "stream",
     "name": "stdout",
     "text": [
      "\n     active environment : base\n    active env location : E:\\SW\\Anaconda 3\n            shell level : 1\n       user config file : C:\\Users\\acver\\.condarc\n populated config files : C:\\Users\\acver\\.condarc\n          conda version : 4.9.2\n    conda-build version : 3.20.5\n         python version : 3.8.5.final.0\n       virtual packages : __win=0=0\n                          __archspec=1=x86_64\n       base environment : E:\\SW\\Anaconda 3  (writable)\n           channel URLs : https://repo.anaconda.com/pkgs/main/win-64\n                          https://repo.anaconda.com/pkgs/main/noarch\n                          https://repo.anaconda.com/pkgs/r/win-64\n                          https://repo.anaconda.com/pkgs/r/noarch\n                          https://repo.anaconda.com/pkgs/msys2/win-64\n                          https://repo.anaconda.com/pkgs/msys2/noarch\n          package cache : E:\\SW\\Anaconda 3\\pkgs\n                          C:\\Users\\acver\\.conda\\pkgs\n                          C:\\Users\\acver\\AppData\\Local\\conda\\conda\\pkgs\n       envs directories : E:\\SW\\Anaconda 3\\envs\n                          C:\\Users\\acver\\.conda\\envs\n                          C:\\Users\\acver\\AppData\\Local\\conda\\conda\\envs\n               platform : win-64\n             user-agent : conda/4.9.2 requests/2.24.0 CPython/3.8.5 Windows/10 Windows/10.0.19041\n          administrator : False\n             netrc file : None\n           offline mode : False\n\n\nNote: you may need to restart the kernel to use updated packages.\n"
     ]
    }
   ],
   "source": [
    "conda info"
   ]
  },
  {
   "cell_type": "code",
   "execution_count": 10,
   "metadata": {},
   "outputs": [
    {
     "output_type": "stream",
     "name": "stdout",
     "text": [
      "Hello World\n"
     ]
    }
   ],
   "source": [
    "print(\"Hello World\")"
   ]
  },
  {
   "cell_type": "code",
   "execution_count": 11,
   "metadata": {},
   "outputs": [
    {
     "output_type": "stream",
     "name": "stdout",
     "text": [
      "Welcome to Python Programming!!\n"
     ]
    }
   ],
   "source": [
    "print('Welcome to Python Programming!!')"
   ]
  },
  {
   "cell_type": "code",
   "execution_count": 12,
   "metadata": {},
   "outputs": [
    {
     "output_type": "stream",
     "name": "stdout",
     "text": [
      "Welcome to Pythong Programming!!\n"
     ]
    }
   ],
   "source": [
    "print(\"Welcome to Pythong Programming!!\")"
   ]
  },
  {
   "cell_type": "code",
   "execution_count": 13,
   "metadata": {},
   "outputs": [
    {
     "output_type": "stream",
     "name": "stdout",
     "text": [
      "Welcom to Python Programming!!\n"
     ]
    }
   ],
   "source": [
    "print('Welcom','to','Python','Programming!!')"
   ]
  },
  {
   "cell_type": "code",
   "execution_count": 14,
   "metadata": {},
   "outputs": [
    {
     "output_type": "stream",
     "name": "stdout",
     "text": [
      "Welcom***to***Python***Programming!!\n"
     ]
    }
   ],
   "source": [
    "# If I want to seperate each words by ***\n",
    "print('Welcom','to','Python','Programming!!',sep='***')"
   ]
  },
  {
   "cell_type": "code",
   "execution_count": 16,
   "metadata": {},
   "outputs": [
    {
     "output_type": "stream",
     "name": "stdout",
     "text": [
      "Welcome\nto\nPython\nProgramming!!\n"
     ]
    }
   ],
   "source": [
    "print('Welcome\\nto\\nPython\\nProgramming!!')"
   ]
  },
  {
   "cell_type": "code",
   "execution_count": 18,
   "metadata": {},
   "outputs": [],
   "source": [
    "# Print is the python core library so no need to import any packages for this"
   ]
  },
  {
   "source": [
    "## String Literals"
   ],
   "cell_type": "markdown",
   "metadata": {}
  },
  {
   "cell_type": "code",
   "execution_count": 19,
   "metadata": {},
   "outputs": [
    {
     "output_type": "stream",
     "name": "stdout",
     "text": [
      "2+3\n"
     ]
    }
   ],
   "source": [
    "print('2+3')"
   ]
  },
  {
   "cell_type": "code",
   "execution_count": 20,
   "metadata": {},
   "outputs": [
    {
     "output_type": "stream",
     "name": "stdout",
     "text": [
      "5\n"
     ]
    }
   ],
   "source": [
    "print(2+3)"
   ]
  },
  {
   "cell_type": "code",
   "execution_count": 22,
   "metadata": {},
   "outputs": [
    {
     "output_type": "stream",
     "name": "stdout",
     "text": [
      "2+3 = 5\n"
     ]
    }
   ],
   "source": [
    "#So whatever we have print here are\n",
    "# Unformatted Output\n",
    "print('2+3 =',(2+3))"
   ]
  },
  {
   "source": [
    "## Formatted Output"
   ],
   "cell_type": "markdown",
   "metadata": {}
  },
  {
   "cell_type": "code",
   "execution_count": 27,
   "metadata": {},
   "outputs": [
    {
     "output_type": "stream",
     "name": "stdout",
     "text": [
      "x=1234.567890\nx=1234.57\nx=   1234.57\n"
     ]
    }
   ],
   "source": [
    "# In Java\n",
    "# int x;\n",
    "# x=5\n",
    "\n",
    "# In Python\n",
    "x = 1234.56789\n",
    "print('x=%f' %x)\n",
    "\n",
    "#If we want to print only two decimal value then .2f round up and give values\n",
    "print('x=%.2f' %x)\n",
    "\n",
    "# If you want to place some width i.e.how many whitespace in upfront by 10 from left\n",
    "print('x=%10.2f' %x)\n",
    "## so here what python is doing that first it takes 10 white spaces from right to left\n",
    "# __________\n",
    "# then starts filling numbers from left to right\n",
    "# ___1234.57"
   ]
  },
  {
   "cell_type": "code",
   "execution_count": 33,
   "metadata": {},
   "outputs": [
    {
     "output_type": "stream",
     "name": "stdout",
     "text": [
      "Girls = 31.44,Boys = 68.56\nGirls = 31.44 %,Boys = 68.56 %\nGirls = 31.44 %,Boys = 68.56 %\nGirls = 68.56 %,Boys = 31.44 %\n"
     ]
    }
   ],
   "source": [
    "boys = 68.56\n",
    "girls = 31.44\n",
    "\n",
    "# % = placeholder and tells to python that where the number goes in what format so it will be floating point number and only two dicimal point will be displayed \n",
    "print(\"Girls = %.2f,Boys = %.2f\" %(girls,boys))\n",
    "print(\"Girls = %.2f %%,Boys = %.2f %%\" %(girls,boys))\n",
    "\n",
    "# .format (girls , boys ) are two variable to be printed, 1st one index of 0 and 2nd one index of 1\n",
    "#{} is a placeholder of location of girls & boys, \n",
    "# 0:.2f -> index at 0 with 2 decimal places value\n",
    "print(\"Girls = {0:.2f} %,Boys = {1:.2f} %\" .format(girls,boys))\n",
    "\n",
    "# swap values\n",
    "print(\"Girls = {0:.2f} %,Boys = {1:.2f} %\" .format(boys,girls))"
   ]
  },
  {
   "source": [
    "# Input Statements"
   ],
   "cell_type": "markdown",
   "metadata": {}
  },
  {
   "cell_type": "code",
   "execution_count": 34,
   "metadata": {},
   "outputs": [],
   "source": [
    "# Compare Java\n",
    "# Scanner class and its object in Java\n",
    "# Scanner receive input and its object has method which takes input\n",
    "\n",
    "# In Python \n",
    "# direct input function"
   ]
  },
  {
   "cell_type": "code",
   "execution_count": 47,
   "metadata": {},
   "outputs": [
    {
     "output_type": "execute_result",
     "data": {
      "text/plain": [
       "'50'"
      ]
     },
     "metadata": {},
     "execution_count": 47
    }
   ],
   "source": [
    "input(\"Enter Your Age:\")"
   ]
  },
  {
   "cell_type": "code",
   "execution_count": 48,
   "metadata": {},
   "outputs": [
    {
     "output_type": "stream",
     "name": "stdout",
     "text": [
      "<class 'str'>\n"
     ]
    }
   ],
   "source": [
    "# Pythong input function always return String\n",
    "age = input(\"Enter Your Age:\")\n",
    "age\n",
    "print(type(age))"
   ]
  },
  {
   "cell_type": "code",
   "execution_count": 46,
   "metadata": {},
   "outputs": [
    {
     "output_type": "execute_result",
     "data": {
      "text/plain": [
       "'50'"
      ]
     },
     "metadata": {},
     "execution_count": 46
    }
   ],
   "source": [
    "age"
   ]
  },
  {
   "cell_type": "code",
   "execution_count": 49,
   "metadata": {},
   "outputs": [
    {
     "output_type": "execute_result",
     "data": {
      "text/plain": [
       "int"
      ]
     },
     "metadata": {},
     "execution_count": 49
    }
   ],
   "source": [
    "# age data type is string\n",
    "age = int(age)\n",
    "type(age)"
   ]
  },
  {
   "cell_type": "code",
   "execution_count": 50,
   "metadata": {},
   "outputs": [
    {
     "output_type": "stream",
     "name": "stdout",
     "text": [
      "Your age after 10 years will be : 60 Years\n"
     ]
    }
   ],
   "source": [
    "age = age + 10\n",
    "print('Your age after 10 years will be : %d Years' %age)"
   ]
  },
  {
   "cell_type": "code",
   "execution_count": 52,
   "metadata": {},
   "outputs": [],
   "source": [
    "# another function to convert directly\n",
    "# Using eval function to recieve user input\n",
    "\n",
    "age = eval(input(\"Enter Your Age:\"))\n"
   ]
  },
  {
   "cell_type": "code",
   "execution_count": 54,
   "metadata": {},
   "outputs": [
    {
     "output_type": "stream",
     "name": "stdout",
     "text": [
      "<class 'int'>\n"
     ]
    }
   ],
   "source": [
    "age\n",
    "print(type(age))"
   ]
  },
  {
   "cell_type": "code",
   "execution_count": 55,
   "metadata": {},
   "outputs": [],
   "source": [
    "gpa = eval(input(\"Enter your GPA: \"))"
   ]
  },
  {
   "cell_type": "code",
   "execution_count": 56,
   "metadata": {},
   "outputs": [
    {
     "output_type": "execute_result",
     "data": {
      "text/plain": [
       "8.45"
      ]
     },
     "metadata": {},
     "execution_count": 56
    }
   ],
   "source": [
    "gpa"
   ]
  },
  {
   "cell_type": "code",
   "execution_count": 57,
   "metadata": {},
   "outputs": [
    {
     "output_type": "execute_result",
     "data": {
      "text/plain": [
       "float"
      ]
     },
     "metadata": {},
     "execution_count": 57
    }
   ],
   "source": [
    "type(gpa)"
   ]
  },
  {
   "cell_type": "code",
   "execution_count": 58,
   "metadata": {},
   "outputs": [],
   "source": [
    "gpa = input(\"Enter your GPA: \")"
   ]
  },
  {
   "cell_type": "code",
   "execution_count": 59,
   "metadata": {},
   "outputs": [
    {
     "output_type": "execute_result",
     "data": {
      "text/plain": [
       "'9.4'"
      ]
     },
     "metadata": {},
     "execution_count": 59
    }
   ],
   "source": [
    "gpa"
   ]
  },
  {
   "cell_type": "code",
   "execution_count": 60,
   "metadata": {},
   "outputs": [
    {
     "output_type": "execute_result",
     "data": {
      "text/plain": [
       "str"
      ]
     },
     "metadata": {},
     "execution_count": 60
    }
   ],
   "source": [
    "type(gpa)"
   ]
  },
  {
   "cell_type": "code",
   "execution_count": 61,
   "metadata": {},
   "outputs": [],
   "source": [
    "gpa = float(gpa)"
   ]
  },
  {
   "cell_type": "code",
   "execution_count": 62,
   "metadata": {},
   "outputs": [
    {
     "output_type": "execute_result",
     "data": {
      "text/plain": [
       "float"
      ]
     },
     "metadata": {},
     "execution_count": 62
    }
   ],
   "source": [
    "type(gpa)"
   ]
  },
  {
   "source": [
    "# Accessing String Elements"
   ],
   "cell_type": "markdown",
   "metadata": {}
  },
  {
   "cell_type": "code",
   "execution_count": 63,
   "metadata": {},
   "outputs": [],
   "source": [
    "# Strings are immutable objects\n",
    "# Strings are sequence objects\n",
    "\n",
    "# -ve index right to left\n",
    "# +ve index left to right\n",
    "#          01234567890123\n",
    "aString = \"This is a Game\"\n",
    "#         -43210987654321"
   ]
  },
  {
   "cell_type": "code",
   "execution_count": 64,
   "metadata": {},
   "outputs": [
    {
     "output_type": "execute_result",
     "data": {
      "text/plain": [
       "14"
      ]
     },
     "metadata": {},
     "execution_count": 64
    }
   ],
   "source": [
    "# Number of elements in a String\n",
    "len(aString)"
   ]
  },
  {
   "cell_type": "code",
   "execution_count": 65,
   "metadata": {},
   "outputs": [
    {
     "output_type": "execute_result",
     "data": {
      "text/plain": [
       "'s'"
      ]
     },
     "metadata": {},
     "execution_count": 65
    }
   ],
   "source": [
    "# Accessing a particular element 's' -> +ve index then left to right\n",
    "aString[3]"
   ]
  },
  {
   "cell_type": "code",
   "execution_count": 66,
   "metadata": {},
   "outputs": [
    {
     "output_type": "execute_result",
     "data": {
      "text/plain": [
       "'s'"
      ]
     },
     "metadata": {},
     "execution_count": 66
    }
   ],
   "source": [
    "# Accessing a particular element 's' -> -ve index then right to left\n",
    "aString[-11]"
   ]
  },
  {
   "cell_type": "code",
   "execution_count": 67,
   "metadata": {},
   "outputs": [
    {
     "output_type": "stream",
     "name": "stdout",
     "text": [
      " \nG\nG\n"
     ]
    }
   ],
   "source": [
    "#          01234567890123\n",
    "aString = \"This is a Game\"\n",
    "#         -43210987654321\n",
    "\n",
    "print(aString[4])\n",
    "print(aString[-4])\n",
    "print(aString[10])"
   ]
  },
  {
   "source": [
    "# String Slicing"
   ],
   "cell_type": "markdown",
   "metadata": {}
  },
  {
   "cell_type": "code",
   "execution_count": 68,
   "metadata": {},
   "outputs": [],
   "source": [
    "# Syntax\n",
    "# aString[start : end : step]\n",
    "\n",
    "# start - defaults to 0\n",
    "# end - Not inclusive\n",
    "# step - optional"
   ]
  },
  {
   "cell_type": "code",
   "execution_count": 69,
   "metadata": {},
   "outputs": [],
   "source": [
    "#          01234567890123\n",
    "aString = \"This is a Game\"\n",
    "#         -43210987654321"
   ]
  },
  {
   "cell_type": "code",
   "execution_count": 70,
   "metadata": {},
   "outputs": [
    {
     "output_type": "execute_result",
     "data": {
      "text/plain": [
       "'Thi'"
      ]
     },
     "metadata": {},
     "execution_count": 70
    }
   ],
   "source": [
    "aString[0:3] # 3 is not inclusive"
   ]
  },
  {
   "cell_type": "code",
   "execution_count": 71,
   "metadata": {},
   "outputs": [
    {
     "output_type": "execute_result",
     "data": {
      "text/plain": [
       "'Game'"
      ]
     },
     "metadata": {},
     "execution_count": 71
    }
   ],
   "source": [
    "aString[10:] # if end number is ommitted, it defaults to end of the string"
   ]
  },
  {
   "cell_type": "code",
   "execution_count": 72,
   "metadata": {},
   "outputs": [
    {
     "output_type": "execute_result",
     "data": {
      "text/plain": [
       "'This is'"
      ]
     },
     "metadata": {},
     "execution_count": 72
    }
   ],
   "source": [
    "aString[ : 7] # if ommit start number, it defaults to zero, so here 7 is not included starts from 0"
   ]
  },
  {
   "cell_type": "code",
   "execution_count": 73,
   "metadata": {},
   "outputs": [
    {
     "output_type": "execute_result",
     "data": {
      "text/plain": [
       "'i saG'"
      ]
     },
     "metadata": {},
     "execution_count": 73
    }
   ],
   "source": [
    "#          01234567890123\n",
    "aString = \"This is a Game\"\n",
    "#         -43210987654321\n",
    "\n",
    "aString[2:12:2] #  2 through 11 with a Step value of 2\n",
    "# so it will only goes to 10 \n",
    "# start from 2 = i\n",
    "# skip 2 element so next value at 4 = space\n",
    "# 2 more values = s\n",
    "# 2 more values = a\n",
    "# 2 more values = G ( 10)\n",
    "# end no is 12 no iclusive\n",
    "# 2+10 = 12 is not available so it stops < 12, upto 10 "
   ]
  },
  {
   "cell_type": "code",
   "execution_count": 74,
   "metadata": {},
   "outputs": [],
   "source": [
    "#          01234567890123\n",
    "aString = \"This is a Game\"\n",
    "#         -43210987654321"
   ]
  },
  {
   "cell_type": "code",
   "execution_count": 75,
   "metadata": {},
   "outputs": [
    {
     "output_type": "execute_result",
     "data": {
      "text/plain": [
       "'Tss m'"
      ]
     },
     "metadata": {},
     "execution_count": 75
    }
   ],
   "source": [
    "aString[: : 3] # omit start & end - Complete String is taken for slicing\n",
    "\n",
    "# Omit start - 0\n",
    "# Ommit end - defaults value end of the string\n",
    "# Ommit Step value = +1"
   ]
  },
  {
   "source": [
    "# Start value should be less than the end value\n",
    "aString[-14 : -10] # step value defaults to +1"
   ],
   "cell_type": "code",
   "metadata": {},
   "execution_count": 76,
   "outputs": [
    {
     "output_type": "execute_result",
     "data": {
      "text/plain": [
       "'This'"
      ]
     },
     "metadata": {},
     "execution_count": 76
    }
   ]
  },
  {
   "cell_type": "code",
   "execution_count": 99,
   "metadata": {},
   "outputs": [
    {
     "output_type": "execute_result",
     "data": {
      "text/plain": [
       "'a Game is This'"
      ]
     },
     "metadata": {},
     "execution_count": 99
    }
   ],
   "source": [
    "aString[8 :  : 1] + aString[4: 7] + aString[ 4] + aString[:4]"
   ]
  },
  {
   "cell_type": "code",
   "execution_count": 100,
   "metadata": {},
   "outputs": [
    {
     "output_type": "execute_result",
     "data": {
      "text/plain": [
       "''"
      ]
     },
     "metadata": {},
     "execution_count": 100
    }
   ],
   "source": [
    "# Ensure that in an Array if we take starting point then we must need to take end point otherwise it won't give anything\n",
    "aString[-10 : -14]"
   ]
  },
  {
   "cell_type": "code",
   "execution_count": 101,
   "metadata": {},
   "outputs": [
    {
     "output_type": "execute_result",
     "data": {
      "text/plain": [
       "' a si sih'"
      ]
     },
     "metadata": {},
     "execution_count": 101
    }
   ],
   "source": [
    "aString[-5 : -14 : -1]"
   ]
  },
  {
   "source": [
    "# String Functions"
   ],
   "cell_type": "markdown",
   "metadata": {}
  },
  {
   "cell_type": "code",
   "execution_count": 102,
   "metadata": {},
   "outputs": [],
   "source": [
    "s1 = \"coMpuTer sCienCe and iNFOrmaTIoN sYSTemS\""
   ]
  },
  {
   "cell_type": "code",
   "execution_count": 103,
   "metadata": {},
   "outputs": [
    {
     "output_type": "execute_result",
     "data": {
      "text/plain": [
       "'coMpuTer sCienCe and iNFOrmaTIoN sYSTemS'"
      ]
     },
     "metadata": {},
     "execution_count": 103
    }
   ],
   "source": [
    "s1"
   ]
  },
  {
   "cell_type": "code",
   "execution_count": 104,
   "metadata": {},
   "outputs": [
    {
     "output_type": "stream",
     "name": "stdout",
     "text": [
      "COMPUTER SCIENCE AND INFORMATION SYSTEMS\n"
     ]
    }
   ],
   "source": [
    "print(s1.upper())"
   ]
  },
  {
   "cell_type": "code",
   "execution_count": 105,
   "metadata": {},
   "outputs": [
    {
     "output_type": "stream",
     "name": "stdout",
     "text": [
      "computer science and information systems\n"
     ]
    }
   ],
   "source": [
    "print(s1.lower())"
   ]
  },
  {
   "cell_type": "code",
   "execution_count": 106,
   "metadata": {},
   "outputs": [
    {
     "output_type": "stream",
     "name": "stdout",
     "text": [
      "Computer Science And Information Systems\n"
     ]
    }
   ],
   "source": [
    "print(s1.title())"
   ]
  },
  {
   "cell_type": "code",
   "execution_count": 107,
   "metadata": {},
   "outputs": [
    {
     "output_type": "stream",
     "name": "stdout",
     "text": [
      "<class 'str'>\n"
     ]
    }
   ],
   "source": [
    "s1 = \"123\"\n",
    "# check whether the given string is string or not\n",
    "print(type(s1))"
   ]
  },
  {
   "cell_type": "code",
   "execution_count": 108,
   "metadata": {},
   "outputs": [
    {
     "output_type": "execute_result",
     "data": {
      "text/plain": [
       "True"
      ]
     },
     "metadata": {},
     "execution_count": 108
    }
   ],
   "source": [
    "s1.isnumeric()"
   ]
  },
  {
   "cell_type": "code",
   "execution_count": 109,
   "metadata": {},
   "outputs": [
    {
     "output_type": "execute_result",
     "data": {
      "text/plain": [
       "True"
      ]
     },
     "metadata": {},
     "execution_count": 109
    }
   ],
   "source": [
    "s1.isdigit()"
   ]
  },
  {
   "cell_type": "code",
   "execution_count": 110,
   "metadata": {},
   "outputs": [
    {
     "output_type": "execute_result",
     "data": {
      "text/plain": [
       "False"
      ]
     },
     "metadata": {},
     "execution_count": 110
    }
   ],
   "source": [
    "s1.isalpha()"
   ]
  },
  {
   "cell_type": "code",
   "execution_count": 111,
   "metadata": {},
   "outputs": [
    {
     "output_type": "execute_result",
     "data": {
      "text/plain": [
       "True"
      ]
     },
     "metadata": {},
     "execution_count": 111
    }
   ],
   "source": [
    "s1.isalnum()"
   ]
  },
  {
   "cell_type": "code",
   "execution_count": 112,
   "metadata": {},
   "outputs": [],
   "source": [
    "s2 = \"123.456\""
   ]
  },
  {
   "cell_type": "code",
   "execution_count": 113,
   "metadata": {},
   "outputs": [
    {
     "output_type": "execute_result",
     "data": {
      "text/plain": [
       "False"
      ]
     },
     "metadata": {},
     "execution_count": 113
    }
   ],
   "source": [
    "s2.isdigit()"
   ]
  },
  {
   "cell_type": "code",
   "execution_count": 114,
   "metadata": {},
   "outputs": [
    {
     "output_type": "execute_result",
     "data": {
      "text/plain": [
       "False"
      ]
     },
     "metadata": {},
     "execution_count": 114
    }
   ],
   "source": [
    "s2.isalpha()"
   ]
  },
  {
   "cell_type": "code",
   "execution_count": 115,
   "metadata": {},
   "outputs": [
    {
     "output_type": "execute_result",
     "data": {
      "text/plain": [
       "False"
      ]
     },
     "metadata": {},
     "execution_count": 115
    }
   ],
   "source": [
    "s2.isalnum()"
   ]
  },
  {
   "cell_type": "code",
   "execution_count": 116,
   "metadata": {},
   "outputs": [],
   "source": [
    "s3 = \"Coronavirus\"\n",
    "s4 = \"Yearbook2021\""
   ]
  },
  {
   "cell_type": "code",
   "execution_count": 117,
   "metadata": {},
   "outputs": [
    {
     "output_type": "execute_result",
     "data": {
      "text/plain": [
       "True"
      ]
     },
     "metadata": {},
     "execution_count": 117
    }
   ],
   "source": [
    "s3.isalnum()"
   ]
  },
  {
   "cell_type": "code",
   "execution_count": 118,
   "metadata": {},
   "outputs": [
    {
     "output_type": "execute_result",
     "data": {
      "text/plain": [
       "False"
      ]
     },
     "metadata": {},
     "execution_count": 118
    }
   ],
   "source": [
    "s3.isdigit()"
   ]
  },
  {
   "cell_type": "code",
   "execution_count": 119,
   "metadata": {},
   "outputs": [
    {
     "output_type": "execute_result",
     "data": {
      "text/plain": [
       "True"
      ]
     },
     "metadata": {},
     "execution_count": 119
    }
   ],
   "source": [
    "s3.isalpha()"
   ]
  },
  {
   "cell_type": "code",
   "execution_count": 120,
   "metadata": {},
   "outputs": [
    {
     "output_type": "execute_result",
     "data": {
      "text/plain": [
       "True"
      ]
     },
     "metadata": {},
     "execution_count": 120
    }
   ],
   "source": [
    "s3.isascii()"
   ]
  },
  {
   "cell_type": "code",
   "execution_count": 121,
   "metadata": {},
   "outputs": [
    {
     "output_type": "execute_result",
     "data": {
      "text/plain": [
       "False"
      ]
     },
     "metadata": {},
     "execution_count": 121
    }
   ],
   "source": [
    "s3.isdecimal()"
   ]
  },
  {
   "cell_type": "code",
   "execution_count": 122,
   "metadata": {},
   "outputs": [
    {
     "output_type": "execute_result",
     "data": {
      "text/plain": [
       "True"
      ]
     },
     "metadata": {},
     "execution_count": 122
    }
   ],
   "source": [
    "s3.isidentifier()"
   ]
  },
  {
   "cell_type": "code",
   "execution_count": 123,
   "metadata": {},
   "outputs": [
    {
     "output_type": "execute_result",
     "data": {
      "text/plain": [
       "False"
      ]
     },
     "metadata": {},
     "execution_count": 123
    }
   ],
   "source": [
    "s3.islower()"
   ]
  },
  {
   "cell_type": "code",
   "execution_count": 124,
   "metadata": {},
   "outputs": [
    {
     "output_type": "execute_result",
     "data": {
      "text/plain": [
       "True"
      ]
     },
     "metadata": {},
     "execution_count": 124
    }
   ],
   "source": [
    "s3.isprintable()"
   ]
  },
  {
   "cell_type": "code",
   "execution_count": 125,
   "metadata": {},
   "outputs": [
    {
     "output_type": "execute_result",
     "data": {
      "text/plain": [
       "True"
      ]
     },
     "metadata": {},
     "execution_count": 125
    }
   ],
   "source": [
    "s3.istitle()"
   ]
  },
  {
   "cell_type": "code",
   "execution_count": 126,
   "metadata": {},
   "outputs": [
    {
     "output_type": "execute_result",
     "data": {
      "text/plain": [
       "True"
      ]
     },
     "metadata": {},
     "execution_count": 126
    }
   ],
   "source": [
    "s4.isalnum()"
   ]
  },
  {
   "cell_type": "code",
   "execution_count": 127,
   "metadata": {},
   "outputs": [
    {
     "output_type": "execute_result",
     "data": {
      "text/plain": [
       "False"
      ]
     },
     "metadata": {},
     "execution_count": 127
    }
   ],
   "source": [
    "s4.isalpha()"
   ]
  },
  {
   "cell_type": "code",
   "execution_count": 128,
   "metadata": {},
   "outputs": [
    {
     "output_type": "execute_result",
     "data": {
      "text/plain": [
       "False"
      ]
     },
     "metadata": {},
     "execution_count": 128
    }
   ],
   "source": [
    "s4.isdecimal()"
   ]
  },
  {
   "cell_type": "code",
   "execution_count": 129,
   "metadata": {},
   "outputs": [
    {
     "output_type": "execute_result",
     "data": {
      "text/plain": [
       "False"
      ]
     },
     "metadata": {},
     "execution_count": 129
    }
   ],
   "source": [
    "s4.isdigit()"
   ]
  },
  {
   "cell_type": "code",
   "execution_count": 130,
   "metadata": {},
   "outputs": [
    {
     "output_type": "execute_result",
     "data": {
      "text/plain": [
       "True"
      ]
     },
     "metadata": {},
     "execution_count": 130
    }
   ],
   "source": [
    "s4.isalnum()"
   ]
  },
  {
   "source": [
    "# String Splitting & Stripping"
   ],
   "cell_type": "markdown",
   "metadata": {}
  },
  {
   "cell_type": "code",
   "execution_count": 131,
   "metadata": {},
   "outputs": [
    {
     "output_type": "execute_result",
     "data": {
      "text/plain": [
       "'\\n\\tBITS Pilani\\n\\t'"
      ]
     },
     "metadata": {},
     "execution_count": 131
    }
   ],
   "source": [
    "s1 = \"\\n\\tBITS Pilani\\n\\t\"\n",
    "s1"
   ]
  },
  {
   "cell_type": "code",
   "execution_count": 133,
   "metadata": {},
   "outputs": [
    {
     "output_type": "stream",
     "name": "stdout",
     "text": [
      "\n\tBITS Pilani\n\t\n"
     ]
    }
   ],
   "source": [
    "print(s1)"
   ]
  },
  {
   "cell_type": "code",
   "execution_count": 134,
   "metadata": {},
   "outputs": [
    {
     "output_type": "stream",
     "name": "stdout",
     "text": [
      "'\\n\\tBITS Pilani\\n\\t'\n"
     ]
    }
   ],
   "source": [
    "print(repr(s1))"
   ]
  },
  {
   "cell_type": "code",
   "execution_count": 135,
   "metadata": {},
   "outputs": [],
   "source": [
    "# \\n, \\t , space are called whitespace charachters"
   ]
  },
  {
   "cell_type": "code",
   "execution_count": 136,
   "metadata": {},
   "outputs": [
    {
     "output_type": "execute_result",
     "data": {
      "text/plain": [
       "'\\n\\tBITS Pilani'"
      ]
     },
     "metadata": {},
     "execution_count": 136
    }
   ],
   "source": [
    "s1.rstrip() # Removes whitespace from right"
   ]
  },
  {
   "cell_type": "code",
   "execution_count": 137,
   "metadata": {},
   "outputs": [
    {
     "output_type": "execute_result",
     "data": {
      "text/plain": [
       "'BITS Pilani\\n\\t'"
      ]
     },
     "metadata": {},
     "execution_count": 137
    }
   ],
   "source": [
    "s1.lstrip() # Removes whitespaces chars from the Left - Leading"
   ]
  },
  {
   "cell_type": "code",
   "execution_count": 138,
   "metadata": {},
   "outputs": [
    {
     "output_type": "execute_result",
     "data": {
      "text/plain": [
       "'BITS Pilani'"
      ]
     },
     "metadata": {},
     "execution_count": 138
    }
   ],
   "source": [
    "s1.strip() # removes all whitespace charchs"
   ]
  },
  {
   "cell_type": "code",
   "execution_count": 139,
   "metadata": {},
   "outputs": [],
   "source": [
    "s2 = \"xxxyyxxyyzzzCorona Virus\""
   ]
  },
  {
   "cell_type": "code",
   "execution_count": 141,
   "metadata": {},
   "outputs": [
    {
     "output_type": "execute_result",
     "data": {
      "text/plain": [
       "'yyyzzzCorona Virus'"
      ]
     },
     "metadata": {},
     "execution_count": 141
    }
   ],
   "source": [
    "s2.lstrip('x') # Python is Case sensitive"
   ]
  },
  {
   "cell_type": "code",
   "execution_count": 142,
   "metadata": {},
   "outputs": [
    {
     "output_type": "execute_result",
     "data": {
      "text/plain": [
       "'Corona Virus'"
      ]
     },
     "metadata": {},
     "execution_count": 142
    }
   ],
   "source": [
    "s2.lstrip('yxz') # Order is nont impot only impt is match"
   ]
  },
  {
   "cell_type": "code",
   "execution_count": 143,
   "metadata": {},
   "outputs": [],
   "source": [
    "line = \"This COVID-19 Outbreak was first identified in Wuhan China\""
   ]
  },
  {
   "cell_type": "code",
   "execution_count": 144,
   "metadata": {},
   "outputs": [],
   "source": [
    "# Split() function creates a list of individual words separeed by spaces\n",
    "splitLine = line.split()"
   ]
  },
  {
   "cell_type": "code",
   "execution_count": 145,
   "metadata": {},
   "outputs": [
    {
     "output_type": "stream",
     "name": "stdout",
     "text": [
      "['This', 'COVID-19', 'Outbreak', 'was', 'first', 'identified', 'in', 'Wuhan', 'China']\n"
     ]
    }
   ],
   "source": [
    "print(splitLine)"
   ]
  },
  {
   "cell_type": "code",
   "execution_count": 146,
   "metadata": {},
   "outputs": [
    {
     "output_type": "stream",
     "name": "stdout",
     "text": [
      "COVID-19\n"
     ]
    }
   ],
   "source": [
    "print(splitLine[1])"
   ]
  },
  {
   "cell_type": "code",
   "execution_count": 147,
   "metadata": {},
   "outputs": [
    {
     "output_type": "stream",
     "name": "stdout",
     "text": [
      "in\n"
     ]
    }
   ],
   "source": [
    "print(splitLine[-3])"
   ]
  },
  {
   "cell_type": "code",
   "execution_count": 148,
   "metadata": {},
   "outputs": [],
   "source": [
    "csv = \"India, is, under, complet, lockdown\""
   ]
  },
  {
   "cell_type": "code",
   "execution_count": 149,
   "metadata": {},
   "outputs": [
    {
     "output_type": "execute_result",
     "data": {
      "text/plain": [
       "['India', ' is', ' under', ' complet', ' lockdown']"
      ]
     },
     "metadata": {},
     "execution_count": 149
    }
   ],
   "source": [
    "csv.split(',')"
   ]
  },
  {
   "cell_type": "code",
   "execution_count": 150,
   "metadata": {},
   "outputs": [
    {
     "output_type": "execute_result",
     "data": {
      "text/plain": [
       "0"
      ]
     },
     "metadata": {},
     "execution_count": 150
    }
   ],
   "source": [
    "csv.find('India')"
   ]
  },
  {
   "cell_type": "code",
   "execution_count": 151,
   "metadata": {},
   "outputs": [
    {
     "output_type": "execute_result",
     "data": {
      "text/plain": [
       "-1"
      ]
     },
     "metadata": {},
     "execution_count": 151
    }
   ],
   "source": [
    "csv.find(\"USA\")"
   ]
  },
  {
   "cell_type": "code",
   "execution_count": 152,
   "metadata": {},
   "outputs": [
    {
     "output_type": "stream",
     "name": "stdout",
     "text": [
      "Arunachal Pradesh\n"
     ]
    }
   ],
   "source": [
    "s3 = \"Arunachal Pradesh\"\n",
    "print(s3)"
   ]
  },
  {
   "cell_type": "code",
   "execution_count": 153,
   "metadata": {},
   "outputs": [
    {
     "output_type": "execute_result",
     "data": {
      "text/plain": [
       "'Uttar Pradesh'"
      ]
     },
     "metadata": {},
     "execution_count": 153
    }
   ],
   "source": [
    "s3.replace(\"Arunachal\",\"Uttar\") # modifying string , String are immutable object we can't change so here it is creating new string"
   ]
  },
  {
   "cell_type": "code",
   "execution_count": 154,
   "metadata": {},
   "outputs": [
    {
     "output_type": "error",
     "ename": "TypeError",
     "evalue": "'str' object does not support item assignment",
     "traceback": [
      "\u001b[1;31m---------------------------------------------------------------------------\u001b[0m",
      "\u001b[1;31mTypeError\u001b[0m                                 Traceback (most recent call last)",
      "\u001b[1;32m<ipython-input-154-82a356f98cf8>\u001b[0m in \u001b[0;36m<module>\u001b[1;34m\u001b[0m\n\u001b[1;32m----> 1\u001b[1;33m \u001b[0ms3\u001b[0m\u001b[1;33m[\u001b[0m\u001b[1;36m4\u001b[0m\u001b[1;33m]\u001b[0m \u001b[1;33m=\u001b[0m \u001b[1;34m'A'\u001b[0m\u001b[1;33m\u001b[0m\u001b[1;33m\u001b[0m\u001b[0m\n\u001b[0m",
      "\u001b[1;31mTypeError\u001b[0m: 'str' object does not support item assignment"
     ]
    }
   ],
   "source": [
    "s3[4] = 'A'"
   ]
  },
  {
   "source": [
    "# List Object - Mutable Data Structures\n",
    "\n",
    "### Optimization required, List are slight slow"
   ],
   "cell_type": "markdown",
   "metadata": {}
  },
  {
   "cell_type": "code",
   "execution_count": 155,
   "metadata": {},
   "outputs": [],
   "source": [
    "emptyList = []"
   ]
  },
  {
   "cell_type": "code",
   "execution_count": 156,
   "metadata": {},
   "outputs": [
    {
     "output_type": "stream",
     "name": "stdout",
     "text": [
      "[]\n"
     ]
    }
   ],
   "source": [
    "print(emptyList)"
   ]
  },
  {
   "cell_type": "code",
   "execution_count": 157,
   "metadata": {},
   "outputs": [
    {
     "output_type": "execute_result",
     "data": {
      "text/plain": [
       "list"
      ]
     },
     "metadata": {},
     "execution_count": 157
    }
   ],
   "source": [
    "type(emptyList)"
   ]
  },
  {
   "cell_type": "code",
   "execution_count": 158,
   "metadata": {},
   "outputs": [
    {
     "output_type": "execute_result",
     "data": {
      "text/plain": [
       "0"
      ]
     },
     "metadata": {},
     "execution_count": 158
    }
   ],
   "source": [
    "len(emptyList)"
   ]
  },
  {
   "cell_type": "code",
   "execution_count": 159,
   "metadata": {},
   "outputs": [],
   "source": [
    "numList = [2,5,6,3,7,5,6]"
   ]
  },
  {
   "cell_type": "code",
   "execution_count": 160,
   "metadata": {},
   "outputs": [
    {
     "output_type": "execute_result",
     "data": {
      "text/plain": [
       "7"
      ]
     },
     "metadata": {},
     "execution_count": 160
    }
   ],
   "source": [
    "len(numList)"
   ]
  },
  {
   "cell_type": "code",
   "execution_count": 161,
   "metadata": {},
   "outputs": [],
   "source": [
    "mixedList = [1,1.4,3,True,\"BITS\"]"
   ]
  },
  {
   "cell_type": "code",
   "execution_count": 162,
   "metadata": {},
   "outputs": [
    {
     "output_type": "stream",
     "name": "stdout",
     "text": [
      "[1, 1.4, 3, True, 'BITS']\n"
     ]
    }
   ],
   "source": [
    "print(mixedList) # No restriction of data types"
   ]
  },
  {
   "cell_type": "code",
   "execution_count": 163,
   "metadata": {},
   "outputs": [
    {
     "output_type": "execute_result",
     "data": {
      "text/plain": [
       "5"
      ]
     },
     "metadata": {},
     "execution_count": 163
    }
   ],
   "source": [
    "len(mixedList)"
   ]
  },
  {
   "source": [
    "## Access Individual elements - LIST"
   ],
   "cell_type": "markdown",
   "metadata": {}
  },
  {
   "cell_type": "code",
   "execution_count": 165,
   "metadata": {},
   "outputs": [
    {
     "output_type": "stream",
     "name": "stdout",
     "text": [
      "[1, 1.4, 3, True, 'BITS']\n"
     ]
    }
   ],
   "source": [
    "\n",
    "#            0  1  2   3     4\n",
    "mixedList = [1,1.4,3,True,\"BITS\"]\n",
    "#           -5 -4 -3  -2    -1\n",
    "print(mixedList)"
   ]
  },
  {
   "cell_type": "code",
   "execution_count": 166,
   "metadata": {},
   "outputs": [
    {
     "output_type": "stream",
     "name": "stdout",
     "text": [
      "True\n"
     ]
    }
   ],
   "source": [
    "#print 4th element -> at index 3\n",
    "print(mixedList[3])"
   ]
  },
  {
   "cell_type": "code",
   "execution_count": 167,
   "metadata": {},
   "outputs": [
    {
     "output_type": "stream",
     "name": "stdout",
     "text": [
      "True\n"
     ]
    }
   ],
   "source": [
    "print(mixedList[-2])"
   ]
  },
  {
   "source": [
    "## Mutablity of Lists"
   ],
   "cell_type": "markdown",
   "metadata": {}
  },
  {
   "cell_type": "code",
   "execution_count": 168,
   "metadata": {},
   "outputs": [
    {
     "output_type": "stream",
     "name": "stdout",
     "text": [
      "[1, 2, 3]\n"
     ]
    }
   ],
   "source": [
    "a = [1,2,3]\n",
    "print(a)"
   ]
  },
  {
   "cell_type": "code",
   "execution_count": 169,
   "metadata": {},
   "outputs": [
    {
     "output_type": "stream",
     "name": "stdout",
     "text": [
      "2545555136320\n"
     ]
    }
   ],
   "source": [
    "print(id(a))"
   ]
  },
  {
   "cell_type": "code",
   "execution_count": 170,
   "metadata": {},
   "outputs": [
    {
     "output_type": "stream",
     "name": "stdout",
     "text": [
      "[1, 'BITS PILANI', 3]\n2545555136320\n"
     ]
    }
   ],
   "source": [
    "a[1] = \"BITS PILANI\"\n",
    "print(a)\n",
    "print(id(a)) # here id or address is not changed only value will be changed"
   ]
  },
  {
   "cell_type": "code",
   "execution_count": 171,
   "metadata": {},
   "outputs": [
    {
     "output_type": "stream",
     "name": "stdout",
     "text": [
      "[1, 'BITS PILANI', 3]\n"
     ]
    }
   ],
   "source": [
    "## Assign List a to another List\n",
    "b = a # assign list a to b\n",
    "print(b)"
   ]
  },
  {
   "cell_type": "code",
   "execution_count": 172,
   "metadata": {},
   "outputs": [
    {
     "output_type": "stream",
     "name": "stdout",
     "text": [
      "2545555136320\n"
     ]
    }
   ],
   "source": [
    "print(id(b)) # assign is address and value with = equal sign "
   ]
  },
  {
   "cell_type": "code",
   "execution_count": 173,
   "metadata": {},
   "outputs": [
    {
     "output_type": "stream",
     "name": "stdout",
     "text": [
      "[1, 'BITS PILANI', 'Coronovirus']\n[1, 'BITS PILANI', 'Coronovirus']\n2545555136320\n2545555136320\n"
     ]
    }
   ],
   "source": [
    "b[2] = \"Coronovirus\"\n",
    "print(b)\n",
    "print(a)\n",
    "print(id(a))\n",
    "print(id(b))"
   ]
  },
  {
   "cell_type": "code",
   "execution_count": 174,
   "metadata": {},
   "outputs": [
    {
     "output_type": "stream",
     "name": "stdout",
     "text": [
      "[1, 'BITS PILANI', 'Coronovirus']\n2545558799552\n"
     ]
    }
   ],
   "source": [
    "## but if we want to add an object with diff address\n",
    "\n",
    "# Unless you are sure What you are doing, do not use assignment operator with mutable objects \n",
    "# Always create a new Object because if you modify one object \n",
    "# id will not affect the other object\n",
    "\n",
    "# Shallow Copy vs Deep Copy\n",
    "\n",
    "c = list(a)\n",
    "print(c)\n",
    "print(id(c))"
   ]
  },
  {
   "cell_type": "code",
   "execution_count": 175,
   "metadata": {},
   "outputs": [
    {
     "output_type": "stream",
     "name": "stdout",
     "text": [
      "[1, 'BITS PILANI', 'Coronovirus']\n2545555136320\n"
     ]
    }
   ],
   "source": [
    "print(a)\n",
    "print(id(a))"
   ]
  },
  {
   "source": [
    "## Comparing Lists"
   ],
   "cell_type": "markdown",
   "metadata": {}
  },
  {
   "cell_type": "code",
   "execution_count": 176,
   "metadata": {},
   "outputs": [
    {
     "output_type": "stream",
     "name": "stdout",
     "text": [
      "True\n"
     ]
    }
   ],
   "source": [
    "a = [1,2,3]\n",
    "b = [1,2,3]\n",
    "\n",
    "print(a == b) # True, Coparees elements of the list . Order matters, List is the Order Sequence similar to strings"
   ]
  },
  {
   "cell_type": "code",
   "execution_count": 177,
   "metadata": {},
   "outputs": [
    {
     "output_type": "stream",
     "name": "stdout",
     "text": [
      "False\n"
     ]
    }
   ],
   "source": [
    "c = [2,1,3]\n",
    "print(a == c) # False , Order matters"
   ]
  },
  {
   "cell_type": "code",
   "execution_count": 178,
   "metadata": {},
   "outputs": [
    {
     "output_type": "stream",
     "name": "stdout",
     "text": [
      "2545561425920\n"
     ]
    },
    {
     "output_type": "execute_result",
     "data": {
      "text/plain": [
       "False"
      ]
     },
     "metadata": {},
     "execution_count": 178
    }
   ],
   "source": [
    "print(id(a)) == id(b) # False"
   ]
  },
  {
   "source": [
    "## Adding LIsts"
   ],
   "cell_type": "markdown",
   "metadata": {}
  },
  {
   "cell_type": "code",
   "execution_count": 179,
   "metadata": {},
   "outputs": [
    {
     "output_type": "stream",
     "name": "stdout",
     "text": [
      "[1, 2, 3]\n['a', 'b', 'c']\n"
     ]
    }
   ],
   "source": [
    "a = [1,2,3]\n",
    "b = ['a','b','c']\n",
    "print(a)\n",
    "print(b)"
   ]
  },
  {
   "cell_type": "code",
   "execution_count": 180,
   "metadata": {},
   "outputs": [
    {
     "output_type": "stream",
     "name": "stdout",
     "text": [
      "[1, 2, 3, 'a', 'b', 'c']\n"
     ]
    }
   ],
   "source": [
    "c = a+b\n",
    "print(c)"
   ]
  },
  {
   "cell_type": "code",
   "execution_count": 181,
   "metadata": {},
   "outputs": [
    {
     "output_type": "stream",
     "name": "stdout",
     "text": [
      "[1, 2, 3, 'a', 'b', 'c']\n"
     ]
    }
   ],
   "source": [
    "# Updating elements of a with b\n",
    "a +=  b\n",
    "print(a)"
   ]
  },
  {
   "cell_type": "code",
   "execution_count": 182,
   "metadata": {},
   "outputs": [
    {
     "output_type": "stream",
     "name": "stdout",
     "text": [
      "[1, 2, 3, 'Hyderabad', 'Mumbai', 'Delhi', 'Bangaluru']\n['Hyderabad', 'Mumbai', 'Delhi', 'Bangaluru']\n"
     ]
    }
   ],
   "source": [
    "a = [1,2,3]\n",
    "b=['Hyderabad','Mumbai','Delhi','Bangaluru']\n",
    "\n",
    "a.extend(b)\n",
    "print(a)\n",
    "print(b)"
   ]
  },
  {
   "source": [
    "## List Operations "
   ],
   "cell_type": "markdown",
   "metadata": {}
  },
  {
   "cell_type": "code",
   "execution_count": 1,
   "metadata": {},
   "outputs": [
    {
     "output_type": "stream",
     "name": "stdout",
     "text": [
      "[]\n"
     ]
    }
   ],
   "source": [
    "# Create and empty List\n",
    "employees = []\n",
    "print(employees)"
   ]
  },
  {
   "cell_type": "code",
   "execution_count": 2,
   "metadata": {},
   "outputs": [
    {
     "output_type": "stream",
     "name": "stdout",
     "text": [
      "['James', 'Emily']\n"
     ]
    }
   ],
   "source": [
    "# Add elements to the List\n",
    "employees.append(\"James\") # 0\n",
    "employees.append(\"Emily\") # 1\n",
    "print(employees)"
   ]
  },
  {
   "cell_type": "code",
   "execution_count": 3,
   "metadata": {},
   "outputs": [
    {
     "output_type": "stream",
     "name": "stdout",
     "text": [
      "['James', 'Tom', 'Emily']\n"
     ]
    }
   ],
   "source": [
    "# Inserting elements\n",
    "employees.insert(1,\"Tom\")\n",
    "print(employees)"
   ]
  },
  {
   "cell_type": "code",
   "execution_count": 4,
   "metadata": {},
   "outputs": [
    {
     "output_type": "execute_result",
     "data": {
      "text/plain": [
       "3"
      ]
     },
     "metadata": {},
     "execution_count": 4
    }
   ],
   "source": [
    "# Number of Employess\n",
    "len(employees)"
   ]
  },
  {
   "cell_type": "code",
   "execution_count": 5,
   "metadata": {},
   "outputs": [
    {
     "output_type": "stream",
     "name": "stdout",
     "text": [
      "['James', 'Tom', 'Emily', 'Carlos']\n"
     ]
    }
   ],
   "source": [
    "# Insert an element at the end\n",
    "employees.insert(len(employees),\"Carlos\")\n",
    "print(employees)"
   ]
  },
  {
   "cell_type": "code",
   "execution_count": 6,
   "metadata": {},
   "outputs": [
    {
     "output_type": "stream",
     "name": "stdout",
     "text": [
      "Chris is not employee\n"
     ]
    }
   ],
   "source": [
    "# Checking if any elements exists in the List\n",
    "if \"Chris\" in employees:\n",
    "    print(\"Chris is an employee\")\n",
    "else:\n",
    "    print(\"Chris is not employee\")"
   ]
  },
  {
   "cell_type": "code",
   "execution_count": 7,
   "metadata": {},
   "outputs": [
    {
     "output_type": "stream",
     "name": "stdout",
     "text": [
      "False\n"
     ]
    }
   ],
   "source": [
    "print(\"Chris\" in employees)"
   ]
  },
  {
   "cell_type": "code",
   "execution_count": 8,
   "metadata": {},
   "outputs": [
    {
     "output_type": "stream",
     "name": "stdout",
     "text": [
      "True\n"
     ]
    }
   ],
   "source": [
    "print(\"Chris\" not in employees )"
   ]
  },
  {
   "cell_type": "code",
   "execution_count": 9,
   "metadata": {},
   "outputs": [
    {
     "output_type": "execute_result",
     "data": {
      "text/plain": [
       "5"
      ]
     },
     "metadata": {},
     "execution_count": 9
    }
   ],
   "source": [
    "len(employees[2])"
   ]
  },
  {
   "cell_type": "code",
   "execution_count": 10,
   "metadata": {},
   "outputs": [
    {
     "output_type": "stream",
     "name": "stdout",
     "text": [
      "['James', 'Tom', 'Emily', 'Carlos']\n"
     ]
    }
   ],
   "source": [
    "print(employees)"
   ]
  },
  {
   "cell_type": "code",
   "execution_count": 11,
   "metadata": {},
   "outputs": [
    {
     "output_type": "stream",
     "name": "stdout",
     "text": [
      "1\n"
     ]
    }
   ],
   "source": [
    "# locate an element\n",
    "pTom = employees.index(\"Tom\") # searches from the begining of the list\n",
    "print(pTom)"
   ]
  },
  {
   "cell_type": "code",
   "execution_count": 12,
   "metadata": {},
   "outputs": [
    {
     "output_type": "stream",
     "name": "stdout",
     "text": [
      "['James', 'Tom', 'Emily', 'Carlos', 'Tom']\n"
     ]
    }
   ],
   "source": [
    "employees.append(\"Tom\")\n",
    "print(employees)"
   ]
  },
  {
   "cell_type": "code",
   "execution_count": 13,
   "metadata": {},
   "outputs": [
    {
     "output_type": "stream",
     "name": "stdout",
     "text": [
      "Second Tom is located at 4\n"
     ]
    }
   ],
   "source": [
    "pTom2 = employees.index(\"Tom\",pTom+1)\n",
    "print(\"Second Tom is located at\",pTom2)"
   ]
  },
  {
   "cell_type": "code",
   "execution_count": 17,
   "metadata": {},
   "outputs": [
    {
     "output_type": "stream",
     "name": "stdout",
     "text": [
      "['James', 'Emily', 'Carlos', 'Bill', 'Tom']\n"
     ]
    }
   ],
   "source": [
    "# Add an element at Location one before the last one\n",
    "employees.insert(len(employees)-1,\"Bill\")\n",
    "print(employees)"
   ]
  },
  {
   "cell_type": "code",
   "execution_count": 18,
   "metadata": {},
   "outputs": [
    {
     "output_type": "stream",
     "name": "stdout",
     "text": [
      "['James', 'Emily', 'Carlos', 'Bill']\n"
     ]
    }
   ],
   "source": [
    "# Remove elements from the list\n",
    "employees.remove(\"Tom\")\n",
    "print(employees)"
   ]
  },
  {
   "cell_type": "code",
   "execution_count": 19,
   "metadata": {},
   "outputs": [
    {
     "output_type": "stream",
     "name": "stdout",
     "text": [
      "Employess popped is Bill\n['James', 'Emily', 'Carlos']\n"
     ]
    }
   ],
   "source": [
    "# Removing elements using pop()\n",
    "# remove elements at a particular index\n",
    "x = employees.pop(len(employees)-1)\n",
    "print(\"Employess popped is\",x)\n",
    "\n",
    "print(employees)"
   ]
  },
  {
   "cell_type": "code",
   "execution_count": 20,
   "metadata": {},
   "outputs": [],
   "source": [
    "if \"Jeffery\" in employees:\n",
    "    employees.remove(\"Jeffery\")"
   ]
  },
  {
   "cell_type": "code",
   "execution_count": 21,
   "metadata": {},
   "outputs": [
    {
     "output_type": "stream",
     "name": "stdout",
     "text": [
      "['James', 'Emily', 'Carlos']\n"
     ]
    }
   ],
   "source": [
    "print(employees)"
   ]
  },
  {
   "cell_type": "code",
   "execution_count": 22,
   "metadata": {},
   "outputs": [],
   "source": [
    "employees.insert(-4,\"Jacob\")"
   ]
  },
  {
   "cell_type": "code",
   "execution_count": 23,
   "metadata": {},
   "outputs": [
    {
     "output_type": "stream",
     "name": "stdout",
     "text": [
      "['Jacob', 'James', 'Emily', 'Carlos']\n"
     ]
    }
   ],
   "source": [
    "print(employees)"
   ]
  },
  {
   "cell_type": "code",
   "execution_count": 24,
   "metadata": {},
   "outputs": [
    {
     "output_type": "stream",
     "name": "stdout",
     "text": [
      "['Jacob', 'James', 'Carlos']\n"
     ]
    }
   ],
   "source": [
    "# Removing an element using Del statement\n",
    "del employees[2]\n",
    "print(employees)"
   ]
  },
  {
   "source": [
    "## List Slicing"
   ],
   "cell_type": "markdown",
   "metadata": {}
  },
  {
   "cell_type": "code",
   "execution_count": 25,
   "metadata": {},
   "outputs": [],
   "source": [
    "#      0  1  2  3  4  5  6   7\n",
    "fib = [0, 1, 1, 2, 3, 5, 8, 13]\n",
    "#     -1 -2 -3 -4 -5 -6 -7  -8 "
   ]
  },
  {
   "cell_type": "code",
   "execution_count": 27,
   "metadata": {},
   "outputs": [
    {
     "output_type": "stream",
     "name": "stdout",
     "text": [
      "[1, 1, 2, 3, 5]\n"
     ]
    }
   ],
   "source": [
    "l1 = fib[1:6]\n",
    "print(l1)"
   ]
  },
  {
   "cell_type": "code",
   "execution_count": 28,
   "metadata": {},
   "outputs": [
    {
     "output_type": "stream",
     "name": "stdout",
     "text": [
      "[5, 8, 13]\n"
     ]
    }
   ],
   "source": [
    "l2 = fib[5:]\n",
    "print(l2)"
   ]
  },
  {
   "cell_type": "code",
   "execution_count": 29,
   "metadata": {},
   "outputs": [
    {
     "output_type": "stream",
     "name": "stdout",
     "text": [
      "[1, 2, 3, 5]\n"
     ]
    }
   ],
   "source": [
    "l3 = fib[-6:-2]\n",
    "print(l3)"
   ]
  },
  {
   "cell_type": "code",
   "execution_count": 30,
   "metadata": {},
   "outputs": [
    {
     "output_type": "stream",
     "name": "stdout",
     "text": [
      "[5, 8, 13]\n"
     ]
    }
   ],
   "source": [
    "l4 = fib[5:20]\n",
    "print(l4)"
   ]
  },
  {
   "cell_type": "code",
   "execution_count": 31,
   "metadata": {},
   "outputs": [
    {
     "output_type": "error",
     "ename": "IndexError",
     "evalue": "list index out of range",
     "traceback": [
      "\u001b[1;31m---------------------------------------------------------------------------\u001b[0m",
      "\u001b[1;31mIndexError\u001b[0m                                Traceback (most recent call last)",
      "\u001b[1;32m<ipython-input-31-6ba680ce8812>\u001b[0m in \u001b[0;36m<module>\u001b[1;34m\u001b[0m\n\u001b[1;32m----> 1\u001b[1;33m \u001b[0mprint\u001b[0m\u001b[1;33m(\u001b[0m\u001b[0mfib\u001b[0m\u001b[1;33m[\u001b[0m\u001b[1;36m20\u001b[0m\u001b[1;33m]\u001b[0m\u001b[1;33m)\u001b[0m\u001b[1;33m\u001b[0m\u001b[1;33m\u001b[0m\u001b[0m\n\u001b[0m",
      "\u001b[1;31mIndexError\u001b[0m: list index out of range"
     ]
    }
   ],
   "source": [
    "print(fib[20])"
   ]
  },
  {
   "source": [
    "## List Operation 2"
   ],
   "cell_type": "markdown",
   "metadata": {}
  },
  {
   "cell_type": "code",
   "execution_count": 32,
   "metadata": {},
   "outputs": [
    {
     "output_type": "stream",
     "name": "stdout",
     "text": [
      "[7, 9, 3, 2]\n"
     ]
    }
   ],
   "source": [
    "a = [7,9,3,2]\n",
    "print(a)"
   ]
  },
  {
   "cell_type": "code",
   "execution_count": 33,
   "metadata": {},
   "outputs": [
    {
     "output_type": "stream",
     "name": "stdout",
     "text": [
      "Sum of the elements: 21\n"
     ]
    }
   ],
   "source": [
    "#Basic Math Operations\n",
    "print(\"Sum of the elements:\", sum(a))"
   ]
  },
  {
   "cell_type": "code",
   "execution_count": 34,
   "metadata": {},
   "outputs": [
    {
     "output_type": "stream",
     "name": "stdout",
     "text": [
      "Maximum Value : 9\nMinimum Value : 2\n"
     ]
    }
   ],
   "source": [
    "print(\"Maximum Value :\", max(a))\n",
    "print(\"Minimum Value :\",min(a))"
   ]
  },
  {
   "cell_type": "code",
   "execution_count": 35,
   "metadata": {},
   "outputs": [
    {
     "output_type": "stream",
     "name": "stdout",
     "text": [
      "[7, 9, 3, 2]\n"
     ]
    }
   ],
   "source": [
    "b = list(a)\n",
    "print(b)"
   ]
  },
  {
   "cell_type": "code",
   "execution_count": 36,
   "metadata": {},
   "outputs": [
    {
     "output_type": "stream",
     "name": "stdout",
     "text": [
      "[2, 3, 7, 9]\n"
     ]
    }
   ],
   "source": [
    "# Sortinig elements of a list\n",
    "b.sort() # by default ascending order\n",
    "print(b)"
   ]
  },
  {
   "cell_type": "code",
   "execution_count": 37,
   "metadata": {},
   "outputs": [
    {
     "output_type": "stream",
     "name": "stdout",
     "text": [
      "[7, 9, 3, 2]\n"
     ]
    }
   ],
   "source": [
    "c = list(a)\n",
    "print(c)"
   ]
  },
  {
   "cell_type": "code",
   "execution_count": 38,
   "metadata": {},
   "outputs": [
    {
     "output_type": "stream",
     "name": "stdout",
     "text": [
      "[9, 7, 3, 2]\n"
     ]
    }
   ],
   "source": [
    "c.sort(reverse=True)\n",
    "print(c)"
   ]
  },
  {
   "cell_type": "code",
   "execution_count": 39,
   "metadata": {},
   "outputs": [
    {
     "output_type": "stream",
     "name": "stdout",
     "text": [
      "[2, 3, 7, 9]\n"
     ]
    }
   ],
   "source": [
    "# reverse() function reverse the original order\n",
    "# list must be in a particular order\n",
    "c.reverse()\n",
    "print(c)"
   ]
  },
  {
   "cell_type": "code",
   "execution_count": 40,
   "metadata": {},
   "outputs": [
    {
     "output_type": "stream",
     "name": "stdout",
     "text": [
      "[7, 9, 3, 2]\n"
     ]
    }
   ],
   "source": [
    "print(a)"
   ]
  },
  {
   "cell_type": "code",
   "execution_count": 41,
   "metadata": {},
   "outputs": [
    {
     "output_type": "stream",
     "name": "stdout",
     "text": [
      "[7, 9, 3, 2]\n"
     ]
    }
   ],
   "source": [
    "b = list(a)\n",
    "print(a)"
   ]
  },
  {
   "cell_type": "code",
   "execution_count": 42,
   "metadata": {},
   "outputs": [
    {
     "output_type": "stream",
     "name": "stdout",
     "text": [
      "[7, 9, 3, 2]\n"
     ]
    }
   ],
   "source": [
    "c = a[:]\n",
    "print(c)"
   ]
  },
  {
   "cell_type": "code",
   "execution_count": 43,
   "metadata": {},
   "outputs": [
    {
     "output_type": "stream",
     "name": "stdout",
     "text": [
      "[7, 9, 3, 2]\n"
     ]
    }
   ],
   "source": [
    "d = a.copy()\n",
    "print(d)"
   ]
  },
  {
   "source": [
    "# Operators, Expressions and Decision Structures"
   ],
   "cell_type": "markdown",
   "metadata": {}
  },
  {
   "cell_type": "code",
   "execution_count": 44,
   "metadata": {},
   "outputs": [],
   "source": [
    "# Relational Operators\n",
    "# == ,!=, < , > , <= , >=\n",
    "# these Operators result in a Boolean outcom\n",
    "# when we use relational operations, they are called boolean expressions"
   ]
  },
  {
   "cell_type": "code",
   "execution_count": 45,
   "metadata": {},
   "outputs": [
    {
     "output_type": "stream",
     "name": "stdout",
     "text": [
      "False\n"
     ]
    }
   ],
   "source": [
    "num1 = 5\n",
    "num2 = 8\n",
    "\n",
    "print(num1==num2)"
   ]
  },
  {
   "cell_type": "code",
   "execution_count": 46,
   "metadata": {},
   "outputs": [
    {
     "output_type": "stream",
     "name": "stdout",
     "text": [
      "False\n"
     ]
    }
   ],
   "source": [
    "print(num1 > num2)"
   ]
  },
  {
   "cell_type": "code",
   "execution_count": 47,
   "metadata": {},
   "outputs": [],
   "source": [
    "# Logical Operators\n",
    "# And , or ,!"
   ]
  },
  {
   "cell_type": "code",
   "execution_count": 48,
   "metadata": {},
   "outputs": [
    {
     "output_type": "execute_result",
     "data": {
      "text/plain": [
       "False"
      ]
     },
     "metadata": {},
     "execution_count": 48
    }
   ],
   "source": [
    "# and operator combines two boolean expressions\n",
    "# compund expressions\n",
    "(num1 > 0) and (num1 > num2)"
   ]
  },
  {
   "cell_type": "code",
   "execution_count": 49,
   "metadata": {},
   "outputs": [
    {
     "output_type": "execute_result",
     "data": {
      "text/plain": [
       "True"
      ]
     },
     "metadata": {},
     "execution_count": 49
    }
   ],
   "source": [
    "(num1 > 0) or (num1 < num2)"
   ]
  },
  {
   "cell_type": "code",
   "execution_count": 52,
   "metadata": {},
   "outputs": [
    {
     "output_type": "error",
     "ename": "IndentationError",
     "evalue": "unexpected indent (<ipython-input-52-ffcb87808175>, line 5)",
     "traceback": [
      "\u001b[1;36m  File \u001b[1;32m\"<ipython-input-52-ffcb87808175>\"\u001b[1;36m, line \u001b[1;32m5\u001b[0m\n\u001b[1;33m    T   T     T        T      F\u001b[0m\n\u001b[1;37m    ^\u001b[0m\n\u001b[1;31mIndentationError\u001b[0m\u001b[1;31m:\u001b[0m unexpected indent\n"
     ]
    }
   ],
   "source": [
    "# Truth Table\n",
    "\n",
    "#X   Y  X and Y  X or Y   !X\n",
    "# ===========================\n",
    " T   T     T        T      F\n",
    " T   F     F        T      F\n",
    " F   T     F        T      T \n",
    " F   F     F        F      T "
   ]
  },
  {
   "source": [
    "Decision Structures or Selection Structures"
   ],
   "cell_type": "markdown",
   "metadata": {}
  },
  {
   "source": [
    "Sequence structure\n",
    "Selection Structure\n",
    "Repetition structure\n",
    "\n",
    "# single selction structure - Single Structure\n",
    "if <condition>:\n",
    "    # Execute the statement\n",
    "\n",
    "# Dual selection Structure    \n",
    "\n",
    "if <condition>:\n",
    "    # Execute statement 1\n",
    "else:\n",
    "    # execute statement\n",
    "\n",
    "# Multiple selection structures\n",
    "# Nested Selection Structures\n"
   ],
   "cell_type": "markdown",
   "metadata": {}
  },
  {
   "cell_type": "code",
   "execution_count": 54,
   "metadata": {},
   "outputs": [
    {
     "output_type": "stream",
     "name": "stdout",
     "text": [
      "1) number is 5\n2) another statement\n3) End of if condition\n"
     ]
    }
   ],
   "source": [
    "num = 5\n",
    "if (num == 5):\n",
    "    print(\"1) number is\", num )\n",
    "    print(\"2) another statement\")\n",
    "print(\"3) End of if condition\")    "
   ]
  },
  {
   "cell_type": "code",
   "execution_count": 55,
   "metadata": {},
   "outputs": [
    {
     "output_type": "stream",
     "name": "stdout",
     "text": [
      "3) End of if condition\n"
     ]
    }
   ],
   "source": [
    "num = 5\n",
    "if (num > 5):\n",
    "    print(\"1) number is\", num )\n",
    "    print(\"2) another statement\")\n",
    "    \n",
    "print(\"3) End of if condition\")"
   ]
  },
  {
   "cell_type": "code",
   "execution_count": 56,
   "metadata": {},
   "outputs": [
    {
     "output_type": "stream",
     "name": "stdout",
     "text": [
      "1)  8 is even\n3) End of if condition \n"
     ]
    }
   ],
   "source": [
    "num = int(input(\"Enter a number:\"))\n",
    "\n",
    "if(num % 2 == 0):\n",
    "    print(\"1) \", num,\"is even\") # if - block\n",
    "else:\n",
    "    print(\"2) \", num,\"is odd\") # else - block\n",
    "\n",
    "print(\"3) End of if condition \") # if - block"
   ]
  },
  {
   "cell_type": "code",
   "execution_count": 58,
   "metadata": {},
   "outputs": [
    {
     "output_type": "stream",
     "name": "stdout",
     "text": [
      "Number is 5\nThis statement always executes\n"
     ]
    }
   ],
   "source": [
    "# Multiple selection structure\n",
    "num = 5\n",
    "\n",
    "if(num==5):\n",
    "    print(\"Number is 5\")\n",
    "else:\n",
    "     if(num > 5):\n",
    "         print(\"Number is greater than 5\")\n",
    "     else:\n",
    "         print(\"Number is less than 5\")\n",
    "\n",
    "print(\"This statement always executes\")"
   ]
  },
  {
   "cell_type": "code",
   "execution_count": 59,
   "metadata": {},
   "outputs": [
    {
     "output_type": "stream",
     "name": "stdout",
     "text": [
      "Number is 5\nThis statement always executes\n"
     ]
    }
   ],
   "source": [
    "num = 5\n",
    "\n",
    "if(num==5):\n",
    "    print(\"Number is 5\")\n",
    "elif(num > 5):\n",
    "    print(\"Number is greater than 5\")\n",
    "else:\n",
    "         print(\"Number is less than 5\")\n",
    "\n",
    "print(\"This statement always executes\")"
   ]
  },
  {
   "cell_type": "code",
   "execution_count": 62,
   "metadata": {},
   "outputs": [
    {
     "output_type": "stream",
     "name": "stdout",
     "text": [
      "Congrats!! You got distinction\n"
     ]
    }
   ],
   "source": [
    "marks = int(input(\"Enter your score:\"))\n",
    "\n",
    "if marks >80:\n",
    "    print(\"Congrats!! You got distinction\")\n",
    "elif (marks <= 80 and marks > 60):\n",
    "    print(\"You got first class\")\n",
    "elif (marks <= 60 and marks > 35):\n",
    "    print(\"You got second class\")\n",
    "elif (marks <= 35 and marks >= 0):\n",
    "    print(\"Sorry!! You need to retake the exam\")\n",
    "else:\n",
    "    print(\"Invalid Score\")"
   ]
  },
  {
   "cell_type": "code",
   "execution_count": 63,
   "metadata": {},
   "outputs": [
    {
     "output_type": "error",
     "ename": "TypeError",
     "evalue": "'>' not supported between instances of 'str' and 'int'",
     "traceback": [
      "\u001b[1;31m---------------------------------------------------------------------------\u001b[0m",
      "\u001b[1;31mTypeError\u001b[0m                                 Traceback (most recent call last)",
      "\u001b[1;32m<ipython-input-63-10a3f5f6249d>\u001b[0m in \u001b[0;36m<module>\u001b[1;34m\u001b[0m\n\u001b[0;32m      1\u001b[0m \u001b[0mnumber\u001b[0m \u001b[1;33m=\u001b[0m \u001b[0minput\u001b[0m\u001b[1;33m(\u001b[0m\u001b[1;34m\"Enter a number:\"\u001b[0m\u001b[1;33m)\u001b[0m\u001b[1;33m\u001b[0m\u001b[1;33m\u001b[0m\u001b[0m\n\u001b[0;32m      2\u001b[0m \u001b[1;33m\u001b[0m\u001b[0m\n\u001b[1;32m----> 3\u001b[1;33m \u001b[1;32mif\u001b[0m \u001b[1;33m(\u001b[0m\u001b[0mnumber\u001b[0m \u001b[1;33m>\u001b[0m \u001b[1;36m5\u001b[0m\u001b[1;33m)\u001b[0m\u001b[1;33m:\u001b[0m\u001b[1;33m\u001b[0m\u001b[1;33m\u001b[0m\u001b[0m\n\u001b[0m\u001b[0;32m      4\u001b[0m     \u001b[0mprint\u001b[0m\u001b[1;33m(\u001b[0m\u001b[1;34m\"number is greater than 5\"\u001b[0m\u001b[1;33m)\u001b[0m\u001b[1;33m\u001b[0m\u001b[1;33m\u001b[0m\u001b[0m\n\u001b[0;32m      5\u001b[0m \u001b[1;32melse\u001b[0m\u001b[1;33m:\u001b[0m\u001b[1;33m\u001b[0m\u001b[1;33m\u001b[0m\u001b[0m\n",
      "\u001b[1;31mTypeError\u001b[0m: '>' not supported between instances of 'str' and 'int'"
     ]
    }
   ],
   "source": [
    "number = input(\"Enter a number:\") # input function always return string, so we need to change the data type\n",
    "\n",
    "if (number > 5):\n",
    "    print(\"number is greater than 5\")\n",
    "else:\n",
    "    print(\"number is not greater than 5\")\n",
    "\n",
    "print(\"statement outside if structure\")"
   ]
  },
  {
   "cell_type": "code",
   "execution_count": 76,
   "metadata": {},
   "outputs": [
    {
     "output_type": "stream",
     "name": "stdout",
     "text": [
      "Something went wrong..\nstatement outside if structure\n"
     ]
    }
   ],
   "source": [
    "try:\n",
    "    number = input(\"Enter a number: \") # input function always return string, so we need to change the data type\n",
    "\n",
    "    if (number > 5):\n",
    "        print(\"number is greater than 5\")\n",
    "    else:\n",
    "        print(\"number is not greater than 5\")\n",
    "except:\n",
    "      print(\"Something went wrong..\")\n",
    "\n",
    "print(\"statement outside if structure\")"
   ]
  },
  {
   "source": [
    "## 03 Repetition Structures\n",
    "\n",
    "### While Loop\n",
    "### For Loop\n",
    "### In Python no - do While Loop\n",
    "\n",
    "- As long as condition is true so inside while exec statements\n",
    "- make sure we set the condition to be false otherwise it will exec infite times"
   ],
   "cell_type": "markdown",
   "metadata": {}
  },
  {
   "cell_type": "code",
   "execution_count": 1,
   "metadata": {},
   "outputs": [],
   "source": [
    "# While loop is also called as condition - controlled Loop\n",
    "\n",
    "# while <Condition>:\n",
    "#       perform statements\n",
    "#       statements - 2"
   ]
  },
  {
   "cell_type": "code",
   "execution_count": 4,
   "metadata": {},
   "outputs": [
    {
     "output_type": "stream",
     "name": "stdout",
     "text": [
      "0\n1\n2\n3\n4\n"
     ]
    }
   ],
   "source": [
    "i = 0\n",
    "while (i < 5):\n",
    "    print(i)\n",
    "    i +=1"
   ]
  },
  {
   "cell_type": "code",
   "execution_count": 7,
   "metadata": {},
   "outputs": [
    {
     "output_type": "stream",
     "name": "stdout",
     "text": [
      "2 6 10 14 \n"
     ]
    }
   ],
   "source": [
    "# end is a parameter for print function that surpasses \\n new line character\n",
    "i = 2\n",
    "while (i < 15):\n",
    "    print(i,end=' ')\n",
    "    i +=4\n",
    "print()"
   ]
  },
  {
   "cell_type": "code",
   "execution_count": 8,
   "metadata": {},
   "outputs": [
    {
     "output_type": "stream",
     "name": "stdout",
     "text": [
      "-2 -5 -8 \n"
     ]
    }
   ],
   "source": [
    "i = -2\n",
    "while (i > -10):\n",
    "    print(i , end=' ')\n",
    "    i -= 3\n",
    "print()"
   ]
  },
  {
   "source": [
    "### For Loop c\n",
    "\n",
    "# for loop is called ounter - controlled loop\n",
    "\n",
    "# for x in range(start, end, step) \n",
    "#    statement\n",
    "#    statement\n",
    "#    statement\n"
   ],
   "cell_type": "code",
   "metadata": {},
   "execution_count": 10,
   "outputs": []
  },
  {
   "cell_type": "code",
   "execution_count": 11,
   "metadata": {},
   "outputs": [
    {
     "output_type": "stream",
     "name": "stdout",
     "text": [
      "0\n1\n2\n3\n4\n5\n6\n7\n8\n9\n"
     ]
    }
   ],
   "source": [
    "# 10 is the end number (not inclusive)\n",
    "# start - defaults to 0\n",
    "# step - defaults to +1\n",
    "\n",
    "for i in range(10):  # 0,1,2,3...9\n",
    "    print(i)\n"
   ]
  },
  {
   "cell_type": "code",
   "execution_count": 12,
   "metadata": {},
   "outputs": [
    {
     "output_type": "stream",
     "name": "stdout",
     "text": [
      "0 1 2 3 4 5 6 7 8 9 \n"
     ]
    }
   ],
   "source": [
    "for i in range(10):  # 0,1,2,3...9\n",
    "    print(i, end=' ')\n",
    "print()"
   ]
  },
  {
   "cell_type": "code",
   "execution_count": 13,
   "metadata": {},
   "outputs": [
    {
     "output_type": "stream",
     "name": "stdout",
     "text": [
      "5 6 7 8 9 \n"
     ]
    }
   ],
   "source": [
    "# start = 5\n",
    "# end = 10 ( not inclusive)\n",
    "# step = +1\n",
    "\n",
    "for i in range(5,10):  # 5,6,7,8,9\n",
    "    print(i , end = ' ')\n",
    "print()"
   ]
  },
  {
   "cell_type": "code",
   "execution_count": 14,
   "metadata": {},
   "outputs": [
    {
     "output_type": "stream",
     "name": "stdout",
     "text": [
      "5 8 11 14 \n"
     ]
    }
   ],
   "source": [
    "for i in range(5,15,3): # 5,8,11,14\n",
    "    print(i, end = ' ')\n",
    "print()"
   ]
  },
  {
   "source": [
    "### Comparision between a while and a for loop\n",
    "\n",
    "1)  Initialize variable ( i=5) - One time execution \n",
    "2) Check the condition ( i < 15) \n",
    "3) Execute statements (printing i)\n",
    "4) Increment / Decrement the counter (i +=3) - go back to step 2"
   ],
   "cell_type": "markdown",
   "metadata": {}
  },
  {
   "cell_type": "code",
   "execution_count": 3,
   "metadata": {},
   "outputs": [
    {
     "output_type": "stream",
     "name": "stdout",
     "text": [
      "   1 : 6990.00 : 106990.00\n   2 : 7478.60 : 114468.60\n   3 : 8001.36 : 122469.96\n   4 : 8560.65 : 131030.61\n   5 : 9159.04 : 140189.65\n   6 : 9799.26 : 149988.90\n   7 : 10484.22 : 160473.13\n   8 : 11217.07 : 171690.20\n   9 : 12001.14 : 183691.34\n  10 : 12840.02 : 196531.37\n  11 : 13737.54 : 210268.91\nThe investment of 100000.00 becomes 210268.91 in 11 years\n"
     ]
    }
   ],
   "source": [
    "# Code to double the investment\n",
    "# You invest certain amount for certain interest rate\n",
    "# How long does it take for the investment to double/\n",
    "\n",
    "years = 0\n",
    "initialAmount = 100000\n",
    "rateOfInterest = 6.99\n",
    "\n",
    "targetAmount = initialAmount * 2\n",
    "\n",
    "balance = initialAmount # running total\n",
    "\n",
    "while (balance <= targetAmount):\n",
    "    years += 1\n",
    "\n",
    "    #Calculate interest amount\n",
    "    interestAmount = balance * rateOfInterest/100\n",
    "\n",
    "    #Update balance\n",
    "    # This statement eventually changes the condition to false\n",
    "\n",
    "    balance += interestAmount\n",
    "\n",
    "    #print(\"%4d : %.2f \" %(years,balance))\n",
    "\n",
    "    print(\"%4d : %.2f : %.2f\" %(years,interestAmount,balance))\n",
    "\n",
    "\n",
    "message = \"The investment of %.2f becomes %.2f in %d years\" %(initialAmount,balance,years)\n",
    "\n",
    "print(message)"
   ]
  },
  {
   "cell_type": "code",
   "execution_count": 6,
   "metadata": {},
   "outputs": [
    {
     "output_type": "stream",
     "name": "stdout",
     "text": [
      "   1     2     3     4     5     6     7     8     9    10  \n   2     4     6     8    10    12    14    16    18    20  \n   3     6     9    12    15    18    21    24    27    30  \n   4     8    12    16    20    24    28    32    36    40  \n   5    10    15    20    25    30    35    40    45    50  \n   6    12    18    24    30    36    42    48    54    60  \n   7    14    21    28    35    42    49    56    63    70  \n   8    16    24    32    40    48    56    64    72    80  \n   9    18    27    36    45    54    63    72    81    90  \n  10    20    30    40    50    60    70    80    90   100  \n"
     ]
    }
   ],
   "source": [
    "#Nested Loop\n",
    "# Loop inside a Loop\n",
    "# To build a multiplication table\n",
    "\n",
    "for i in range(1,11): # 1,2..10 OUter loop # ROWS\n",
    "    for j in range(1,11): # Inner Loop # Columns\n",
    "        print(\"%4d\" %(i * j), end='  ')\n",
    "    \n",
    "    print()    \n",
    "# For each value of the outerloop repeat the inner loop(However many time it is)"
   ]
  },
  {
   "source": [
    "# break and Continue Statement\n",
    "\n",
    "# Break statement breaks out of the loop completely\n",
    "# Continue breaking out of the current iteration\n",
    "\n",
    "i = 10\n",
    "\n",
    "while(i < 55):\n",
    "    print(i, end=\" \")\n",
    "\n",
    "    if(i == 50):\n",
    "        break\n",
    "    i += 5\n"
   ],
   "cell_type": "code",
   "metadata": {},
   "execution_count": 11,
   "outputs": [
    {
     "output_type": "stream",
     "name": "stdout",
     "text": [
      "10 15 20 25 30 35 40 45 50 "
     ]
    }
   ]
  },
  {
   "cell_type": "code",
   "execution_count": 12,
   "metadata": {},
   "outputs": [
    {
     "output_type": "stream",
     "name": "stdout",
     "text": [
      "0  :  2\n1  :  8\n3  :  17\n4  :  22\n6  :  29\n"
     ]
    }
   ],
   "source": [
    "numList = [2,6,3,9,5,3,7]\n",
    "#i         0 1 2 3 4 5 6  \n",
    "total = 0\n",
    "i = 0\n",
    "\n",
    "#     i < 7\n",
    "while(i < len(numList)):\n",
    "    if(numList[i] == 3):\n",
    "        i+=1\n",
    "        continue # if numList[i]==3 if block exec and continue then below that continue block will not exec. \n",
    "\n",
    "    total += numList[i] # 2 6\n",
    "\n",
    "    print(i, \" : \", total)\n",
    "    i +=1"
   ]
  },
  {
   "source": [
    "## Strings "
   ],
   "cell_type": "markdown",
   "metadata": {}
  },
  {
   "cell_type": "code",
   "execution_count": 14,
   "metadata": {},
   "outputs": [
    {
     "output_type": "stream",
     "name": "stdout",
     "text": [
      "T h i s   i s   a   G a m e \n"
     ]
    }
   ],
   "source": [
    "#    -43210987654321 \n",
    "s1 = \"This is a Game\"\n",
    "#     01234567890123\n",
    "\n",
    "for i in range(len(s1)): # [0,14(not included) , 1]\n",
    "    print(s1[i], end=' ')\n",
    "print()\n"
   ]
  },
  {
   "cell_type": "code",
   "execution_count": 16,
   "metadata": {},
   "outputs": [
    {
     "output_type": "stream",
     "name": "stdout",
     "text": [
      "e m a G   a   s i   s i h T \n"
     ]
    }
   ],
   "source": [
    "for i in range(-1,-len(s1)-1,-1):\n",
    "    print(s1[i],end = ' ')\n",
    "print()    "
   ]
  },
  {
   "cell_type": "code",
   "execution_count": 17,
   "metadata": {},
   "outputs": [
    {
     "output_type": "stream",
     "name": "stdout",
     "text": [
      "h     G e \n"
     ]
    }
   ],
   "source": [
    "for i in range(1, len(s1),3):\n",
    "    print(s1[i], end=' ')\n",
    "print()"
   ]
  },
  {
   "cell_type": "code",
   "execution_count": 18,
   "metadata": {},
   "outputs": [
    {
     "output_type": "stream",
     "name": "stdout",
     "text": [
      "T h i s   i s   a   G a m e \n"
     ]
    }
   ],
   "source": [
    "# String is a sequence object\n",
    "# Lopping through a String without using its index\n",
    "\n",
    "for x in s1:\n",
    "    print(x, end=' ')\n",
    "\n",
    "print()"
   ]
  },
  {
   "cell_type": "code",
   "execution_count": 23,
   "metadata": {},
   "outputs": [
    {
     "output_type": "stream",
     "name": "stdout",
     "text": [
      "-14  :  T\n-13  :  h\n-12  :  i\n-11  :  s\n-10  :   \n-9  :  i\n-8  :  s\n-7  :   \n-6  :  a\n-5  :   \n-4  :  G\n-3  :  a\n-2  :  m\n-1  :  e\n\n"
     ]
    }
   ],
   "source": [
    "i = -len(s1) # -14\n",
    "\n",
    "while(i <= -1):\n",
    "    print(i, \" : \", s1[i])\n",
    "    i +=1\n",
    "\n",
    "print() "
   ]
  },
  {
   "source": [
    "## Tuples\n",
    "\n",
    "* Immutable Data Structures but we can convert it as Mutable objects also\n",
    "* List is a Mutable objects\n",
    "* Like a List take multiple data types\n",
    "* Most of the Operation with List can also apply with Tuples\n",
    "* Tuples are represented paranthesis while List are by []"
   ],
   "cell_type": "markdown",
   "metadata": {}
  },
  {
   "cell_type": "code",
   "execution_count": 25,
   "metadata": {},
   "outputs": [],
   "source": [
    "\n",
    "aTuple = (1,1.5,'COVID-19','Python',True)"
   ]
  },
  {
   "cell_type": "code",
   "execution_count": 26,
   "metadata": {},
   "outputs": [
    {
     "output_type": "execute_result",
     "data": {
      "text/plain": [
       "tuple"
      ]
     },
     "metadata": {},
     "execution_count": 26
    }
   ],
   "source": [
    "type(aTuple)"
   ]
  },
  {
   "cell_type": "code",
   "execution_count": 27,
   "metadata": {},
   "outputs": [
    {
     "output_type": "execute_result",
     "data": {
      "text/plain": [
       "5"
      ]
     },
     "metadata": {},
     "execution_count": 27
    }
   ],
   "source": [
    "len(aTuple)"
   ]
  },
  {
   "cell_type": "code",
   "execution_count": 28,
   "metadata": {},
   "outputs": [
    {
     "output_type": "execute_result",
     "data": {
      "text/plain": [
       "'COVID-19'"
      ]
     },
     "metadata": {},
     "execution_count": 28
    }
   ],
   "source": [
    "aTuple[2]"
   ]
  },
  {
   "cell_type": "code",
   "execution_count": 29,
   "metadata": {},
   "outputs": [
    {
     "output_type": "execute_result",
     "data": {
      "text/plain": [
       "'COVID-19'"
      ]
     },
     "metadata": {},
     "execution_count": 29
    }
   ],
   "source": [
    "aTuple[-3]"
   ]
  },
  {
   "cell_type": "code",
   "execution_count": 30,
   "metadata": {},
   "outputs": [
    {
     "output_type": "execute_result",
     "data": {
      "text/plain": [
       "str"
      ]
     },
     "metadata": {},
     "execution_count": 30
    }
   ],
   "source": [
    "type(aTuple[-2])"
   ]
  },
  {
   "cell_type": "code",
   "execution_count": 31,
   "metadata": {},
   "outputs": [
    {
     "output_type": "execute_result",
     "data": {
      "text/plain": [
       "bool"
      ]
     },
     "metadata": {},
     "execution_count": 31
    }
   ],
   "source": [
    "type(aTuple[-1])"
   ]
  },
  {
   "cell_type": "code",
   "execution_count": 32,
   "metadata": {},
   "outputs": [
    {
     "output_type": "execute_result",
     "data": {
      "text/plain": [
       "(1, 1.5, 'COVID-19')"
      ]
     },
     "metadata": {},
     "execution_count": 32
    }
   ],
   "source": [
    "# Tuple Slicing\n",
    "\n",
    "aTuple[0:3] # 0,1,2"
   ]
  },
  {
   "cell_type": "code",
   "execution_count": 33,
   "metadata": {},
   "outputs": [
    {
     "output_type": "execute_result",
     "data": {
      "text/plain": [
       "('Python', True)"
      ]
     },
     "metadata": {},
     "execution_count": 33
    }
   ],
   "source": [
    "aTuple[3:] # Skip end number, it defaults to end tye tupple"
   ]
  },
  {
   "cell_type": "code",
   "execution_count": 34,
   "metadata": {},
   "outputs": [
    {
     "output_type": "execute_result",
     "data": {
      "text/plain": [
       "(1, 1.5)"
      ]
     },
     "metadata": {},
     "execution_count": 34
    }
   ],
   "source": [
    "aTuple[:2] # Skip start number, it defaults to 0"
   ]
  },
  {
   "cell_type": "code",
   "execution_count": 35,
   "metadata": {},
   "outputs": [
    {
     "output_type": "execute_result",
     "data": {
      "text/plain": [
       "('a', 'b', 3, 'd', 5, 6)"
      ]
     },
     "metadata": {},
     "execution_count": 35
    }
   ],
   "source": [
    "# Joining Tuples\n",
    "\n",
    "t1 = ('a','b',3,'d')\n",
    "t2 = (5,6)\n",
    "\n",
    "t1+t2"
   ]
  },
  {
   "cell_type": "code",
   "execution_count": 36,
   "metadata": {},
   "outputs": [
    {
     "output_type": "execute_result",
     "data": {
      "text/plain": [
       "('a', 2, 'a', 2, 'a', 2)"
      ]
     },
     "metadata": {},
     "execution_count": 36
    }
   ],
   "source": [
    "t3 = ('a',2)\n",
    "t3 * 3 # Repetition operator"
   ]
  },
  {
   "cell_type": "code",
   "execution_count": 37,
   "metadata": {},
   "outputs": [
    {
     "output_type": "error",
     "ename": "TypeError",
     "evalue": "'tuple' object does not support item assignment",
     "traceback": [
      "\u001b[1;31m---------------------------------------------------------------------------\u001b[0m",
      "\u001b[1;31mTypeError\u001b[0m                                 Traceback (most recent call last)",
      "\u001b[1;32m<ipython-input-37-7b586fb93c31>\u001b[0m in \u001b[0;36m<module>\u001b[1;34m\u001b[0m\n\u001b[1;32m----> 1\u001b[1;33m \u001b[0mt1\u001b[0m\u001b[1;33m[\u001b[0m\u001b[1;36m2\u001b[0m\u001b[1;33m]\u001b[0m \u001b[1;33m=\u001b[0m \u001b[1;36m36\u001b[0m\u001b[1;33m\u001b[0m\u001b[1;33m\u001b[0m\u001b[0m\n\u001b[0m",
      "\u001b[1;31mTypeError\u001b[0m: 'tuple' object does not support item assignment"
     ]
    }
   ],
   "source": [
    "t1[2] = 36"
   ]
  },
  {
   "cell_type": "code",
   "execution_count": 38,
   "metadata": {},
   "outputs": [
    {
     "output_type": "execute_result",
     "data": {
      "text/plain": [
       "(1, 1.5, 'COVID-19', 'Python', True)"
      ]
     },
     "metadata": {},
     "execution_count": 38
    }
   ],
   "source": [
    "aTuple"
   ]
  },
  {
   "cell_type": "code",
   "execution_count": 39,
   "metadata": {},
   "outputs": [
    {
     "output_type": "stream",
     "name": "stdout",
     "text": [
      "1\n1.5\nCOVID-19\nPython\nTrue\n"
     ]
    }
   ],
   "source": [
    "for i in range(len(aTuple)):\n",
    "    print(aTuple[i])"
   ]
  },
  {
   "cell_type": "code",
   "execution_count": 40,
   "metadata": {},
   "outputs": [
    {
     "output_type": "stream",
     "name": "stdout",
     "text": [
      "1\n1.5\nCOVID-19\nPython\nTrue\n"
     ]
    }
   ],
   "source": [
    "for item in aTuple:\n",
    "    print(item)"
   ]
  },
  {
   "cell_type": "code",
   "execution_count": 41,
   "metadata": {},
   "outputs": [
    {
     "output_type": "execute_result",
     "data": {
      "text/plain": [
       "(1, 1.5, 'Java', [4, 8, 2], True)"
      ]
     },
     "metadata": {},
     "execution_count": 41
    }
   ],
   "source": [
    "t5 = (1,1.5,\"Java\",[4,8,2],True)\n",
    "t5"
   ]
  },
  {
   "cell_type": "code",
   "execution_count": 42,
   "metadata": {},
   "outputs": [
    {
     "output_type": "execute_result",
     "data": {
      "text/plain": [
       "1789199854384"
      ]
     },
     "metadata": {},
     "execution_count": 42
    }
   ],
   "source": [
    "id(t5)"
   ]
  },
  {
   "cell_type": "code",
   "execution_count": 43,
   "metadata": {},
   "outputs": [
    {
     "output_type": "error",
     "ename": "TypeError",
     "evalue": "'tuple' object does not support item assignment",
     "traceback": [
      "\u001b[1;31m---------------------------------------------------------------------------\u001b[0m",
      "\u001b[1;31mTypeError\u001b[0m                                 Traceback (most recent call last)",
      "\u001b[1;32m<ipython-input-43-c1e4082b7d35>\u001b[0m in \u001b[0;36m<module>\u001b[1;34m\u001b[0m\n\u001b[1;32m----> 1\u001b[1;33m \u001b[0mt5\u001b[0m\u001b[1;33m[\u001b[0m\u001b[1;36m2\u001b[0m\u001b[1;33m]\u001b[0m \u001b[1;33m=\u001b[0m \u001b[1;34m\"Python\"\u001b[0m\u001b[1;33m\u001b[0m\u001b[1;33m\u001b[0m\u001b[0m\n\u001b[0m",
      "\u001b[1;31mTypeError\u001b[0m: 'tuple' object does not support item assignment"
     ]
    }
   ],
   "source": [
    "t5[2] = \"Python\""
   ]
  },
  {
   "cell_type": "code",
   "execution_count": 44,
   "metadata": {},
   "outputs": [],
   "source": [
    "# t5 = (1,1.5,\"Java\",[4,8,2],True)\n",
    "t5[-2][1] = \"Python\""
   ]
  },
  {
   "cell_type": "code",
   "execution_count": 45,
   "metadata": {},
   "outputs": [
    {
     "output_type": "execute_result",
     "data": {
      "text/plain": [
       "(1, 1.5, 'Java', [4, 'Python', 2], True)"
      ]
     },
     "metadata": {},
     "execution_count": 45
    }
   ],
   "source": [
    "t5"
   ]
  },
  {
   "cell_type": "code",
   "execution_count": 46,
   "metadata": {},
   "outputs": [],
   "source": [
    "# List of states in India\n"
   ]
  },
  {
   "source": [
    "## Mutable Objects - LISTS\n"
   ],
   "cell_type": "markdown",
   "metadata": {}
  },
  {
   "cell_type": "code",
   "execution_count": 47,
   "metadata": {},
   "outputs": [],
   "source": [
    "listA = [2.3,3,12.5,7.5,\"Python\",True]"
   ]
  },
  {
   "cell_type": "code",
   "execution_count": 48,
   "metadata": {},
   "outputs": [
    {
     "output_type": "stream",
     "name": "stdout",
     "text": [
      "2.3 3 12.5 7.5 Python True \n"
     ]
    }
   ],
   "source": [
    "for i in range(len(listA)):\n",
    "    print(listA[i], end=' ')\n",
    "\n",
    "print()"
   ]
  },
  {
   "cell_type": "code",
   "execution_count": 49,
   "metadata": {},
   "outputs": [
    {
     "output_type": "stream",
     "name": "stdout",
     "text": [
      "True Python 7.5 12.5 3 2.3 \n"
     ]
    }
   ],
   "source": [
    "for i in range(-1, -len(listA)-1,-1):\n",
    "    print(listA[i],end=' ')\n",
    "print()"
   ]
  },
  {
   "cell_type": "code",
   "execution_count": 50,
   "metadata": {},
   "outputs": [
    {
     "output_type": "execute_result",
     "data": {
      "text/plain": [
       "(2.3, 3, 12.5, 7.5, 'Python', True)"
      ]
     },
     "metadata": {},
     "execution_count": 50
    }
   ],
   "source": [
    "tupA = tuple(listA)\n",
    "tupA"
   ]
  },
  {
   "source": [
    "## List Comprehension"
   ],
   "cell_type": "markdown",
   "metadata": {}
  },
  {
   "cell_type": "code",
   "execution_count": 51,
   "metadata": {},
   "outputs": [
    {
     "output_type": "execute_result",
     "data": {
      "text/plain": [
       "[0, 1, 2, 3, 4, 5, 6, 7, 8, 9]"
      ]
     },
     "metadata": {},
     "execution_count": 51
    }
   ],
   "source": [
    "listB = [x for x in range(10)]\n",
    "listB"
   ]
  },
  {
   "cell_type": "code",
   "execution_count": 52,
   "metadata": {},
   "outputs": [
    {
     "output_type": "execute_result",
     "data": {
      "text/plain": [
       "[0, 1, 2, 3, 4, 5, 6, 7, 8, 9]"
      ]
     },
     "metadata": {},
     "execution_count": 52
    }
   ],
   "source": [
    "listC = []\n",
    "for x in range(10):\n",
    "    listC.append(x)\n",
    "listC"
   ]
  },
  {
   "cell_type": "code",
   "execution_count": 53,
   "metadata": {},
   "outputs": [
    {
     "output_type": "execute_result",
     "data": {
      "text/plain": [
       "[0, 2, 4, 6, 8]"
      ]
     },
     "metadata": {},
     "execution_count": 53
    }
   ],
   "source": [
    "listD = [x*2 for x in range(5)] # 0,1,2,3,4\n",
    "listD"
   ]
  },
  {
   "cell_type": "code",
   "execution_count": 54,
   "metadata": {},
   "outputs": [
    {
     "output_type": "execute_result",
     "data": {
      "text/plain": [
       "[0.5,\n",
       " 0.3333333333333333,\n",
       " 0.25,\n",
       " 0.2,\n",
       " 0.16666666666666666,\n",
       " 0.14285714285714285,\n",
       " 0.125,\n",
       " 0.1111111111111111]"
      ]
     },
     "metadata": {},
     "execution_count": 54
    }
   ],
   "source": [
    "listE = [1/x for x in range(2,10)] # 2,3,...,9\n",
    "listE"
   ]
  },
  {
   "cell_type": "code",
   "execution_count": 55,
   "metadata": {},
   "outputs": [
    {
     "output_type": "execute_result",
     "data": {
      "text/plain": [
       "[2.3, 3, 12.5, 7.5, 'Python', True]"
      ]
     },
     "metadata": {},
     "execution_count": 55
    }
   ],
   "source": [
    "listA"
   ]
  },
  {
   "cell_type": "code",
   "execution_count": 56,
   "metadata": {},
   "outputs": [
    {
     "output_type": "execute_result",
     "data": {
      "text/plain": [
       "[0, 1, 2, 3, 4, 5, 6, 7, 8, 9]"
      ]
     },
     "metadata": {},
     "execution_count": 56
    }
   ],
   "source": [
    "listB"
   ]
  },
  {
   "cell_type": "code",
   "execution_count": 57,
   "metadata": {},
   "outputs": [
    {
     "output_type": "execute_result",
     "data": {
      "text/plain": [
       "[0.0, 0.25, 0.5, 0.75, 1.0, 1.25, 1.5, 1.75, 2.0, 2.25]"
      ]
     },
     "metadata": {},
     "execution_count": 57
    }
   ],
   "source": [
    "listF = [x/4 for x in listB]\n",
    "listF"
   ]
  },
  {
   "cell_type": "code",
   "execution_count": 58,
   "metadata": {},
   "outputs": [
    {
     "output_type": "execute_result",
     "data": {
      "text/plain": [
       "[0.5, 0.75, 1.0, 1.25]"
      ]
     },
     "metadata": {},
     "execution_count": 58
    }
   ],
   "source": [
    "ListG = [x for x in listF if 0.5 <=x <= 1.25]\n",
    "ListG"
   ]
  },
  {
   "cell_type": "code",
   "execution_count": 59,
   "metadata": {},
   "outputs": [
    {
     "output_type": "stream",
     "name": "stdout",
     "text": [
      "[0.5, 0.75, 1.0, 1.25]\n"
     ]
    }
   ],
   "source": [
    "listH = []\n",
    "for x in listF:\n",
    "    if(0.5 <=x <= 1.25):\n",
    "        listH.append(x)\n",
    "print(listH)"
   ]
  },
  {
   "cell_type": "code",
   "execution_count": 60,
   "metadata": {},
   "outputs": [
    {
     "output_type": "stream",
     "name": "stdout",
     "text": [
      "[3, 4, 5, 4, 5, 6, 5, 6, 7]\n"
     ]
    }
   ],
   "source": [
    "# Using Nested Loop to create a List\n",
    "###\n",
    "# x = 2, y = 1,2,3  3,4,5\n",
    "# x = 3, y = 1,2,3  4,5,6 \n",
    "# x = 4, y = 1,2,3  5,6,7\n",
    "\n",
    "listI = []\n",
    "for x in range(2,5): #2,3,4\n",
    "    for y in range(1,4): # 1,2,3\n",
    "\n",
    "        listI.append(x+y)\n",
    "print(listI)"
   ]
  },
  {
   "cell_type": "code",
   "execution_count": 61,
   "metadata": {},
   "outputs": [
    {
     "output_type": "execute_result",
     "data": {
      "text/plain": [
       "[3, 4, 5, 4, 5, 6, 5, 6, 7]"
      ]
     },
     "metadata": {},
     "execution_count": 61
    }
   ],
   "source": [
    "listJ = [x+y for x in range(2,5) for y in range(1,4)]\n",
    "listJ"
   ]
  },
  {
   "cell_type": "code",
   "execution_count": 62,
   "metadata": {},
   "outputs": [
    {
     "output_type": "execute_result",
     "data": {
      "text/plain": [
       "['ax', 'ay', 'az', 'bx', 'by', 'bz', 'cx', 'cy', 'cz']"
      ]
     },
     "metadata": {},
     "execution_count": 62
    }
   ],
   "source": [
    "a = ['a','b','c']\n",
    "b = ['x','y','z']\n",
    "\n",
    "listK = [i+j for i in a for j in b] # concatenating two elements when list\n",
    "listK"
   ]
  },
  {
   "cell_type": "code",
   "execution_count": 63,
   "metadata": {},
   "outputs": [
    {
     "output_type": "stream",
     "name": "stdout",
     "text": [
      "['ax', 'ay', 'az', 'bx', 'by', 'bz', 'cx', 'cy', 'cz']\n"
     ]
    }
   ],
   "source": [
    "listL = []\n",
    "for i in a:\n",
    "    for j in b:\n",
    "        listL.append(i+j)\n",
    "print(listL)"
   ]
  },
  {
   "source": [
    "## Sets - Mutable Data Structure"
   ],
   "cell_type": "markdown",
   "metadata": {}
  },
  {
   "cell_type": "code",
   "execution_count": 64,
   "metadata": {},
   "outputs": [
    {
     "output_type": "execute_result",
     "data": {
      "text/plain": [
       "set()"
      ]
     },
     "metadata": {},
     "execution_count": 64
    }
   ],
   "source": [
    "# Creating an empty set\n",
    "# Set do not support indexing\n",
    "# Set elements do not have any order\n",
    "# Sets can not have duplicates\n",
    "# Sets can have objects of various types\n",
    "# SEts are mutable objects\n",
    "\n",
    "\n",
    "a = [] # List\n",
    "b = () # Tuple\n",
    "\n",
    "s1 = set() # Set\n",
    "s1"
   ]
  },
  {
   "cell_type": "code",
   "execution_count": 66,
   "metadata": {},
   "outputs": [
    {
     "output_type": "stream",
     "name": "stdout",
     "text": [
      "({'Python', 1, 2.25, 6, 'A'},)\n"
     ]
    }
   ],
   "source": [
    "# Creating a set with default values \n",
    "s2 = {1,6,2.25,'A','Python',True}, # Initial set of values in set use curly braces\n",
    "s2\n",
    "print(s2)"
   ]
  },
  {
   "cell_type": "code",
   "execution_count": 67,
   "metadata": {},
   "outputs": [
    {
     "output_type": "execute_result",
     "data": {
      "text/plain": [
       "{1, 2, 25, 5.46, 'a'}"
      ]
     },
     "metadata": {},
     "execution_count": 67
    }
   ],
   "source": [
    "s3 = {1,2,2,'a',5.46,'a',1,25}\n",
    "s3"
   ]
  },
  {
   "cell_type": "code",
   "execution_count": 68,
   "metadata": {},
   "outputs": [
    {
     "output_type": "execute_result",
     "data": {
      "text/plain": [
       "5"
      ]
     },
     "metadata": {},
     "execution_count": 68
    }
   ],
   "source": [
    "# Number of elements\n",
    "len(s3)"
   ]
  },
  {
   "cell_type": "code",
   "execution_count": 69,
   "metadata": {},
   "outputs": [
    {
     "output_type": "execute_result",
     "data": {
      "text/plain": [
       "{'Ahmedabad', 'Bangaluru', 'Chennai', 'Delhi'}"
      ]
     },
     "metadata": {},
     "execution_count": 69
    }
   ],
   "source": [
    "t4 = ('Ahmedabad','Bangaluru','Chennai','Delhi')\n",
    "s4 = set(t4)\n",
    "s4"
   ]
  },
  {
   "cell_type": "code",
   "execution_count": 70,
   "metadata": {},
   "outputs": [
    {
     "output_type": "execute_result",
     "data": {
      "text/plain": [
       "{1, 4, 5, 6, 9}"
      ]
     },
     "metadata": {},
     "execution_count": 70
    }
   ],
   "source": [
    "l5 = [1,1,4,5,4,5,6,9]\n",
    "s5 = set(l5)\n",
    "s5"
   ]
  },
  {
   "cell_type": "code",
   "execution_count": 71,
   "metadata": {},
   "outputs": [
    {
     "output_type": "execute_result",
     "data": {
      "text/plain": [
       "{'M', 'i', 'p', 's'}"
      ]
     },
     "metadata": {},
     "execution_count": 71
    }
   ],
   "source": [
    "s6 = set(\"Mississippi\")\n",
    "s6\n",
    "\n"
   ]
  },
  {
   "cell_type": "code",
   "execution_count": 73,
   "metadata": {},
   "outputs": [
    {
     "output_type": "stream",
     "name": "stdout",
     "text": [
      "Minimum of s7 =  1\n"
     ]
    }
   ],
   "source": [
    "s7 = {1,6,2.25,4,5.46}\n",
    "print(\"Minimum of s7 = \",min(s7))"
   ]
  },
  {
   "cell_type": "code",
   "execution_count": 74,
   "metadata": {},
   "outputs": [
    {
     "output_type": "stream",
     "name": "stdout",
     "text": [
      "Minimum of s7 =  18.71\n"
     ]
    }
   ],
   "source": [
    "print(\"Minimum of s7 = \",sum(s7))"
   ]
  },
  {
   "cell_type": "code",
   "execution_count": 75,
   "metadata": {},
   "outputs": [
    {
     "output_type": "error",
     "ename": "TypeError",
     "evalue": "'set' object is not subscriptable",
     "traceback": [
      "\u001b[1;31m---------------------------------------------------------------------------\u001b[0m",
      "\u001b[1;31mTypeError\u001b[0m                                 Traceback (most recent call last)",
      "\u001b[1;32m<ipython-input-75-d63ae0718085>\u001b[0m in \u001b[0;36m<module>\u001b[1;34m\u001b[0m\n\u001b[1;32m----> 1\u001b[1;33m \u001b[0mprint\u001b[0m\u001b[1;33m(\u001b[0m\u001b[0ms7\u001b[0m\u001b[1;33m[\u001b[0m\u001b[1;36m3\u001b[0m\u001b[1;33m]\u001b[0m\u001b[1;33m)\u001b[0m \u001b[1;31m# Indexing are not allowed with Sets\u001b[0m\u001b[1;33m\u001b[0m\u001b[1;33m\u001b[0m\u001b[0m\n\u001b[0m",
      "\u001b[1;31mTypeError\u001b[0m: 'set' object is not subscriptable"
     ]
    }
   ],
   "source": [
    "print(s7[3]) # Indexing are not allowed with Sets"
   ]
  },
  {
   "cell_type": "code",
   "execution_count": 76,
   "metadata": {},
   "outputs": [
    {
     "output_type": "execute_result",
     "data": {
      "text/plain": [
       "[1, 2, 3, 3, 4, 5]"
      ]
     },
     "metadata": {},
     "execution_count": 76
    }
   ],
   "source": [
    "a = [1,2,3]\n",
    "b = [3,4,5]\n",
    "\n",
    "c = a+b\n",
    "c"
   ]
  },
  {
   "cell_type": "code",
   "execution_count": 77,
   "metadata": {},
   "outputs": [
    {
     "output_type": "error",
     "ename": "TypeError",
     "evalue": "unsupported operand type(s) for +: 'set' and 'set'",
     "traceback": [
      "\u001b[1;31m---------------------------------------------------------------------------\u001b[0m",
      "\u001b[1;31mTypeError\u001b[0m                                 Traceback (most recent call last)",
      "\u001b[1;32m<ipython-input-77-04070671c4eb>\u001b[0m in \u001b[0;36m<module>\u001b[1;34m\u001b[0m\n\u001b[0;32m      2\u001b[0m \u001b[0msetB\u001b[0m \u001b[1;33m=\u001b[0m \u001b[0mset\u001b[0m\u001b[1;33m(\u001b[0m\u001b[0mb\u001b[0m\u001b[1;33m)\u001b[0m\u001b[1;33m\u001b[0m\u001b[1;33m\u001b[0m\u001b[0m\n\u001b[0;32m      3\u001b[0m \u001b[1;33m\u001b[0m\u001b[0m\n\u001b[1;32m----> 4\u001b[1;33m \u001b[0msetC\u001b[0m \u001b[1;33m=\u001b[0m \u001b[0msetA\u001b[0m \u001b[1;33m+\u001b[0m \u001b[0msetB\u001b[0m \u001b[1;31m# + not supported\u001b[0m\u001b[1;33m\u001b[0m\u001b[1;33m\u001b[0m\u001b[0m\n\u001b[0m\u001b[0;32m      5\u001b[0m \u001b[0msetC\u001b[0m\u001b[1;33m\u001b[0m\u001b[1;33m\u001b[0m\u001b[0m\n",
      "\u001b[1;31mTypeError\u001b[0m: unsupported operand type(s) for +: 'set' and 'set'"
     ]
    }
   ],
   "source": [
    "setA = set(a)\n",
    "setB = set(b)\n",
    "\n",
    "setC = setA + setB # + not supported\n",
    "setC"
   ]
  },
  {
   "cell_type": "code",
   "execution_count": 78,
   "metadata": {},
   "outputs": [
    {
     "output_type": "execute_result",
     "data": {
      "text/plain": [
       "{1, 2.25, 4, 5.46, 6}"
      ]
     },
     "metadata": {},
     "execution_count": 78
    }
   ],
   "source": [
    "s7"
   ]
  },
  {
   "cell_type": "code",
   "execution_count": 79,
   "metadata": {},
   "outputs": [
    {
     "output_type": "execute_result",
     "data": {
      "text/plain": [
       "{1, 2.25, 4, 5.46, 6, 'a', 'b'}"
      ]
     },
     "metadata": {},
     "execution_count": 79
    }
   ],
   "source": [
    "# Adding Elements to a Set\n",
    "s7.add('a')\n",
    "s7.add('b')\n",
    "s7.add('a')\n",
    "s7"
   ]
  },
  {
   "cell_type": "code",
   "execution_count": 80,
   "metadata": {},
   "outputs": [
    {
     "output_type": "execute_result",
     "data": {
      "text/plain": [
       "{1, 2.25, 4, 6, 'a', 'b'}"
      ]
     },
     "metadata": {},
     "execution_count": 80
    }
   ],
   "source": [
    "# Removing an elements\n",
    "\n",
    "s7.remove(5.46)\n",
    "s7"
   ]
  },
  {
   "cell_type": "code",
   "execution_count": 81,
   "metadata": {},
   "outputs": [
    {
     "output_type": "error",
     "ename": "KeyError",
     "evalue": "'c'",
     "traceback": [
      "\u001b[1;31m---------------------------------------------------------------------------\u001b[0m",
      "\u001b[1;31mKeyError\u001b[0m                                  Traceback (most recent call last)",
      "\u001b[1;32m<ipython-input-81-79084b0b11c8>\u001b[0m in \u001b[0;36m<module>\u001b[1;34m\u001b[0m\n\u001b[1;32m----> 1\u001b[1;33m \u001b[0ms7\u001b[0m\u001b[1;33m.\u001b[0m\u001b[0mremove\u001b[0m\u001b[1;33m(\u001b[0m\u001b[1;34m'c'\u001b[0m\u001b[1;33m)\u001b[0m\u001b[1;33m\u001b[0m\u001b[1;33m\u001b[0m\u001b[0m\n\u001b[0m",
      "\u001b[1;31mKeyError\u001b[0m: 'c'"
     ]
    }
   ],
   "source": [
    "s7.remove('c')  # Internally python maintains some key for each charachters so that is why error came KeyError"
   ]
  },
  {
   "cell_type": "code",
   "execution_count": 82,
   "metadata": {},
   "outputs": [],
   "source": [
    "if 'c' in s7:\n",
    "    s7.remove('c')"
   ]
  },
  {
   "cell_type": "code",
   "execution_count": 83,
   "metadata": {},
   "outputs": [
    {
     "output_type": "execute_result",
     "data": {
      "text/plain": [
       "{1, 2.25, 4, 6, 'a', 'b'}"
      ]
     },
     "metadata": {},
     "execution_count": 83
    }
   ],
   "source": [
    "s7"
   ]
  },
  {
   "cell_type": "code",
   "execution_count": 85,
   "metadata": {},
   "outputs": [
    {
     "output_type": "stream",
     "name": "stdout",
     "text": [
      "True\nFalse\n"
     ]
    }
   ],
   "source": [
    "print(4 in s7) # in and not in operators result in boolean outcome\n",
    "print(1 not in s7)"
   ]
  },
  {
   "cell_type": "code",
   "execution_count": 86,
   "metadata": {},
   "outputs": [
    {
     "output_type": "stream",
     "name": "stdout",
     "text": [
      "Something went wrong\n"
     ]
    },
    {
     "output_type": "execute_result",
     "data": {
      "text/plain": [
       "{1, 2.25, 4, 6, 'a', 'b'}"
      ]
     },
     "metadata": {},
     "execution_count": 86
    }
   ],
   "source": [
    "try:\n",
    "    s7.remove('c')\n",
    "except:\n",
    "    print(\"Something went wrong\")\n",
    "s7"
   ]
  },
  {
   "cell_type": "code",
   "execution_count": 88,
   "metadata": {},
   "outputs": [
    {
     "output_type": "stream",
     "name": "stdout",
     "text": [
      "True\nFalse\n"
     ]
    }
   ],
   "source": [
    "# Comparing elements\n",
    "s8 = {1,2,3}\n",
    "s9 = {2,3,1}\n",
    "\n",
    "print (s8 == s9) # True becuase order doesn't matters\n",
    "print(id(s8) == id(s9)) # False"
   ]
  },
  {
   "cell_type": "code",
   "execution_count": 91,
   "metadata": {},
   "outputs": [
    {
     "output_type": "stream",
     "name": "stdout",
     "text": [
      "{1, 2, 3}\n"
     ]
    }
   ],
   "source": [
    "s10 = {2,8,3,1}\n",
    "s10.pop()\n",
    "print(s10)"
   ]
  },
  {
   "cell_type": "code",
   "execution_count": 92,
   "metadata": {},
   "outputs": [
    {
     "output_type": "execute_result",
     "data": {
      "text/plain": [
       "{1, 3, 8}"
      ]
     },
     "metadata": {},
     "execution_count": 92
    }
   ],
   "source": [
    "s11 ={2,8,3,1}\n",
    "s11.discard(2)\n",
    "s11"
   ]
  },
  {
   "cell_type": "code",
   "execution_count": 93,
   "metadata": {},
   "outputs": [
    {
     "output_type": "execute_result",
     "data": {
      "text/plain": [
       "{1, 3, 8}"
      ]
     },
     "metadata": {},
     "execution_count": 93
    }
   ],
   "source": [
    "s11.discard(9)\n",
    "s11"
   ]
  },
  {
   "cell_type": "code",
   "execution_count": 94,
   "metadata": {},
   "outputs": [
    {
     "output_type": "execute_result",
     "data": {
      "text/plain": [
       "{1, 2, 4, 5, 7, 9}"
      ]
     },
     "metadata": {},
     "execution_count": 94
    }
   ],
   "source": [
    "s12 = {9,2,5,4,1,7}\n",
    "s12"
   ]
  },
  {
   "cell_type": "code",
   "execution_count": 95,
   "metadata": {},
   "outputs": [
    {
     "output_type": "execute_result",
     "data": {
      "text/plain": [
       "[1, 2, 4, 5, 7, 9]"
      ]
     },
     "metadata": {},
     "execution_count": 95
    }
   ],
   "source": [
    "sorted(s12)"
   ]
  },
  {
   "source": [
    "## Set Operations"
   ],
   "cell_type": "markdown",
   "metadata": {}
  },
  {
   "cell_type": "code",
   "execution_count": 96,
   "metadata": {},
   "outputs": [
    {
     "output_type": "stream",
     "name": "stdout",
     "text": [
      "True\nTrue\n"
     ]
    }
   ],
   "source": [
    "s1 = {1,2,3}\n",
    "s2 = {8,1,6,2,3,7}\n",
    "\n",
    "print(s1.issubset(s2)) # True\n",
    "print(s2.issuperset(s1)) # True"
   ]
  },
  {
   "cell_type": "code",
   "execution_count": 99,
   "metadata": {},
   "outputs": [
    {
     "output_type": "stream",
     "name": "stdout",
     "text": [
      "{1, 2, 3, 5, 8}\n{1, 2, 3, 4, 5, 7, 8}\n"
     ]
    }
   ],
   "source": [
    "# Union of Sets\n",
    "s1 = {1,2,3}\n",
    "s2 = {3,5,8}\n",
    "s3 = {7,4,5}\n",
    "\n",
    "print(s1.union(s2))\n",
    "print(s1.union(s2).union(s3))"
   ]
  },
  {
   "cell_type": "code",
   "execution_count": 101,
   "metadata": {},
   "outputs": [
    {
     "output_type": "stream",
     "name": "stdout",
     "text": [
      "{1, 2, 3, 5, 8}\n{1, 2, 3, 4, 5, 7, 8}\n"
     ]
    }
   ],
   "source": [
    "print(s1 | s2)\n",
    "print(s1 | s2 | s3)"
   ]
  },
  {
   "cell_type": "code",
   "execution_count": 102,
   "metadata": {},
   "outputs": [
    {
     "output_type": "stream",
     "name": "stdout",
     "text": [
      "{3, 5}\n{3, 5}\n"
     ]
    }
   ],
   "source": [
    "s4 = {1,2,3,4,5}\n",
    "s5 = {3,5,8,9,12}\n",
    "\n",
    "print(s4.intersection(s5))\n",
    "print(s4 & s5)"
   ]
  },
  {
   "cell_type": "code",
   "execution_count": 104,
   "metadata": {},
   "outputs": [
    {
     "output_type": "stream",
     "name": "stdout",
     "text": [
      "{8, 9, 12}\n{8, 9, 12}\n"
     ]
    }
   ],
   "source": [
    "# s4 = {1,2,3,4,5}\n",
    "# s5 = {3,5,8,9,12}\n",
    "\n",
    "# Elements that are in s5 but not in s4\n",
    "print(s5.difference(s4))\n",
    "print(s5 - s4)"
   ]
  },
  {
   "cell_type": "code",
   "execution_count": 107,
   "metadata": {},
   "outputs": [
    {
     "output_type": "stream",
     "name": "stdout",
     "text": [
      "{1, 2, 4, 8, 9, 12}\n{1, 2, 4, 8, 9, 12}\n"
     ]
    }
   ],
   "source": [
    "# Symmetric difference\n",
    "# Elements that are in either set, but not in both\n",
    "\n",
    "print(s5.symmetric_difference(s4))\n",
    "print(s5 ^ s4)"
   ]
  },
  {
   "source": [],
   "cell_type": "markdown",
   "metadata": {}
  }
 ]
}